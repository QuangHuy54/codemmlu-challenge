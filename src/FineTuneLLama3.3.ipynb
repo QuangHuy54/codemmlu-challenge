{
 "cells": [
  {
   "cell_type": "code",
   "execution_count": 1,
   "id": "ebca91c8",
   "metadata": {
    "_cell_guid": "b1076dfc-b9ad-4769-8c92-a6c4dae69d19",
    "_uuid": "8f2839f25d086af736a60e9eeb907d3b93b6e0e5",
    "execution": {
     "iopub.execute_input": "2025-03-30T11:57:45.024903Z",
     "iopub.status.busy": "2025-03-30T11:57:45.024595Z",
     "iopub.status.idle": "2025-03-30T11:57:46.085546Z",
     "shell.execute_reply": "2025-03-30T11:57:46.084326Z"
    },
    "papermill": {
     "duration": 1.072735,
     "end_time": "2025-03-30T11:57:46.087464",
     "exception": false,
     "start_time": "2025-03-30T11:57:45.014729",
     "status": "completed"
    },
    "tags": []
   },
   "outputs": [
    {
     "name": "stdout",
     "output_type": "stream",
     "text": [
      "/kaggle/input/fpt-ai-residency-batch-6-entry-test/sample_submission.csv\n",
      "/kaggle/input/fpt-ai-residency-batch-6-entry-test/b6_test_data.csv\n",
      "/kaggle/input/fpt-ai-residency-batch-6-entry-test/b6_train_data.csv\n",
      "/kaggle/input/fpt-ai-residency-batch-6-entry-test/archived/archived/b6_test_data.csv\n",
      "/kaggle/input/fpt-ai-residency-batch-6-entry-test/archived/archived/b6_train_data.csv\n"
     ]
    }
   ],
   "source": [
    "# This Python 3 environment comes with many helpful analytics libraries installed\n",
    "# It is defined by the kaggle/python Docker image: https://github.com/kaggle/docker-python\n",
    "# For example, here's several helpful packages to load\n",
    "\n",
    "import numpy as np # linear algebra\n",
    "import pandas as pd # data processing, CSV file I/O (e.g. pd.read_csv)\n",
    "\n",
    "# Input data files are available in the read-only \"../input/\" directory\n",
    "# For example, running this (by clicking run or pressing Shift+Enter) will list all files under the input directory\n",
    "\n",
    "import os\n",
    "for dirname, _, filenames in os.walk('/kaggle/input'):\n",
    "    for filename in filenames:\n",
    "        print(os.path.join(dirname, filename))\n",
    "\n",
    "# You can write up to 20GB to the current directory (/kaggle/working/) that gets preserved as output when you create a version using \"Save & Run All\" \n",
    "# You can also write temporary files to /kaggle/temp/, but they won't be saved outside of the current session"
   ]
  },
  {
   "cell_type": "markdown",
   "id": "85b37885",
   "metadata": {
    "papermill": {
     "duration": 0.00767,
     "end_time": "2025-03-30T11:57:46.103389",
     "exception": false,
     "start_time": "2025-03-30T11:57:46.095719",
     "status": "completed"
    },
    "tags": []
   },
   "source": [
    "## 1. Data processing"
   ]
  },
  {
   "cell_type": "code",
   "execution_count": 2,
   "id": "ddd708ca",
   "metadata": {
    "execution": {
     "iopub.execute_input": "2025-03-30T11:57:46.120202Z",
     "iopub.status.busy": "2025-03-30T11:57:46.119768Z",
     "iopub.status.idle": "2025-03-30T11:57:46.231715Z",
     "shell.execute_reply": "2025-03-30T11:57:46.230559Z"
    },
    "papermill": {
     "duration": 0.122496,
     "end_time": "2025-03-30T11:57:46.233626",
     "exception": false,
     "start_time": "2025-03-30T11:57:46.111130",
     "status": "completed"
    },
    "tags": []
   },
   "outputs": [
    {
     "data": {
      "text/html": [
       "<div>\n",
       "<style scoped>\n",
       "    .dataframe tbody tr th:only-of-type {\n",
       "        vertical-align: middle;\n",
       "    }\n",
       "\n",
       "    .dataframe tbody tr th {\n",
       "        vertical-align: top;\n",
       "    }\n",
       "\n",
       "    .dataframe thead th {\n",
       "        text-align: right;\n",
       "    }\n",
       "</style>\n",
       "<table border=\"1\" class=\"dataframe\">\n",
       "  <thead>\n",
       "    <tr style=\"text-align: right;\">\n",
       "      <th></th>\n",
       "      <th>task_id</th>\n",
       "      <th>question</th>\n",
       "      <th>choices</th>\n",
       "      <th>answer</th>\n",
       "    </tr>\n",
       "  </thead>\n",
       "  <tbody>\n",
       "    <tr>\n",
       "      <th>0</th>\n",
       "      <td>k10168</td>\n",
       "      <td>Question: What will be output of the following...</td>\n",
       "      <td>['8 4 2', '8 4 2', '8 4 4', '8 4 3']</td>\n",
       "      <td>C</td>\n",
       "    </tr>\n",
       "    <tr>\n",
       "      <th>1</th>\n",
       "      <td>k10173</td>\n",
       "      <td>Question: What will be output of the following...</td>\n",
       "      <td>['-4', '-5', '10', '11']</td>\n",
       "      <td>A</td>\n",
       "    </tr>\n",
       "    <tr>\n",
       "      <th>2</th>\n",
       "      <td>k10174</td>\n",
       "      <td>Question: Match the following.\\n      Group 1 ...</td>\n",
       "      <td>['P-4. Q-1, R-2, S-3', 'P-3, Q-1, R-4, S-2', '...</td>\n",
       "      <td>B</td>\n",
       "    </tr>\n",
       "    <tr>\n",
       "      <th>3</th>\n",
       "      <td>k10175</td>\n",
       "      <td>Question: Match the following.\\nP. Regular exp...</td>\n",
       "      <td>['P-4. Q-1, R-2, S-3', 'P-3, Q-1, R-4, S-2', '...</td>\n",
       "      <td>B</td>\n",
       "    </tr>\n",
       "    <tr>\n",
       "      <th>4</th>\n",
       "      <td>k10176</td>\n",
       "      <td>Question: Which grammar rules violate the requ...</td>\n",
       "      <td>['1 only', '1 and 3 only', '2 and 3 only', '3 ...</td>\n",
       "      <td>B</td>\n",
       "    </tr>\n",
       "    <tr>\n",
       "      <th>...</th>\n",
       "      <td>...</td>\n",
       "      <td>...</td>\n",
       "      <td>...</td>\n",
       "      <td>...</td>\n",
       "    </tr>\n",
       "    <tr>\n",
       "      <th>3958</th>\n",
       "      <td>k00695</td>\n",
       "      <td>Question: Which technique is used in React Memo?</td>\n",
       "      <td>['Hashing', 'Memoization', 'Sorting', 'Pipelin...</td>\n",
       "      <td>B</td>\n",
       "    </tr>\n",
       "    <tr>\n",
       "      <th>3959</th>\n",
       "      <td>k00696</td>\n",
       "      <td>Question: What is the correct definition of pr...</td>\n",
       "      <td>['Concept of passing data as props through int...</td>\n",
       "      <td>A</td>\n",
       "    </tr>\n",
       "    <tr>\n",
       "      <th>3960</th>\n",
       "      <td>k00697</td>\n",
       "      <td>Question: What is the correct syntax for  arro...</td>\n",
       "      <td>['()', '=&gt;', '()=&gt;', '&gt;=()']</td>\n",
       "      <td>C</td>\n",
       "    </tr>\n",
       "    <tr>\n",
       "      <th>3961</th>\n",
       "      <td>k00698</td>\n",
       "      <td>Question: Which of the following is the correc...</td>\n",
       "      <td>['It is a temporary storage of elements', 'It ...</td>\n",
       "      <td>B</td>\n",
       "    </tr>\n",
       "    <tr>\n",
       "      <th>3962</th>\n",
       "      <td>k00701</td>\n",
       "      <td>Question: ___ can be done while multiple eleme...</td>\n",
       "      <td>['Abstraction', 'Packing', 'Insulation', 'Wrap...</td>\n",
       "      <td>D</td>\n",
       "    </tr>\n",
       "  </tbody>\n",
       "</table>\n",
       "<p>3963 rows × 4 columns</p>\n",
       "</div>"
      ],
      "text/plain": [
       "     task_id                                           question  \\\n",
       "0     k10168  Question: What will be output of the following...   \n",
       "1     k10173  Question: What will be output of the following...   \n",
       "2     k10174  Question: Match the following.\\n      Group 1 ...   \n",
       "3     k10175  Question: Match the following.\\nP. Regular exp...   \n",
       "4     k10176  Question: Which grammar rules violate the requ...   \n",
       "...      ...                                                ...   \n",
       "3958  k00695   Question: Which technique is used in React Memo?   \n",
       "3959  k00696  Question: What is the correct definition of pr...   \n",
       "3960  k00697  Question: What is the correct syntax for  arro...   \n",
       "3961  k00698  Question: Which of the following is the correc...   \n",
       "3962  k00701  Question: ___ can be done while multiple eleme...   \n",
       "\n",
       "                                                choices answer  \n",
       "0                  ['8 4 2', '8 4 2', '8 4 4', '8 4 3']      C  \n",
       "1                              ['-4', '-5', '10', '11']      A  \n",
       "2     ['P-4. Q-1, R-2, S-3', 'P-3, Q-1, R-4, S-2', '...      B  \n",
       "3     ['P-4. Q-1, R-2, S-3', 'P-3, Q-1, R-4, S-2', '...      B  \n",
       "4     ['1 only', '1 and 3 only', '2 and 3 only', '3 ...      B  \n",
       "...                                                 ...    ...  \n",
       "3958  ['Hashing', 'Memoization', 'Sorting', 'Pipelin...      B  \n",
       "3959  ['Concept of passing data as props through int...      A  \n",
       "3960                       ['()', '=>', '()=>', '>=()']      C  \n",
       "3961  ['It is a temporary storage of elements', 'It ...      B  \n",
       "3962  ['Abstraction', 'Packing', 'Insulation', 'Wrap...      D  \n",
       "\n",
       "[3963 rows x 4 columns]"
      ]
     },
     "execution_count": 2,
     "metadata": {},
     "output_type": "execute_result"
    }
   ],
   "source": [
    "train_df=pd.read_csv('/kaggle/input/fpt-ai-residency-batch-6-entry-test/b6_train_data.csv')\n",
    "train_df"
   ]
  },
  {
   "cell_type": "code",
   "execution_count": 3,
   "id": "e971a46c",
   "metadata": {
    "execution": {
     "iopub.execute_input": "2025-03-30T11:57:46.251270Z",
     "iopub.status.busy": "2025-03-30T11:57:46.250960Z",
     "iopub.status.idle": "2025-03-30T11:57:46.617049Z",
     "shell.execute_reply": "2025-03-30T11:57:46.616105Z"
    },
    "papermill": {
     "duration": 0.376361,
     "end_time": "2025-03-30T11:57:46.618544",
     "exception": false,
     "start_time": "2025-03-30T11:57:46.242183",
     "status": "completed"
    },
    "tags": []
   },
   "outputs": [
    {
     "data": {
      "text/plain": [
       "<Axes: xlabel='answer'>"
      ]
     },
     "execution_count": 3,
     "metadata": {},
     "output_type": "execute_result"
    },
    {
     "data": {
      "image/png": "[encoded data removed]",
      "text/plain": [
       "<Figure size 640x480 with 1 Axes>"
      ]
     },
     "metadata": {},
     "output_type": "display_data"
    }
   ],
   "source": [
    "train_df['answer'].value_counts().plot(kind='bar')"
   ]
  },
  {
   "cell_type": "code",
   "execution_count": 4,
   "id": "48b52cc4",
   "metadata": {
    "execution": {
     "iopub.execute_input": "2025-03-30T11:57:46.636776Z",
     "iopub.status.busy": "2025-03-30T11:57:46.636484Z",
     "iopub.status.idle": "2025-03-30T11:57:46.788592Z",
     "shell.execute_reply": "2025-03-30T11:57:46.787653Z"
    },
    "papermill": {
     "duration": 0.162863,
     "end_time": "2025-03-30T11:57:46.789972",
     "exception": false,
     "start_time": "2025-03-30T11:57:46.627109",
     "status": "completed"
    },
    "tags": []
   },
   "outputs": [
    {
     "data": {
      "text/plain": [
       "<Axes: xlabel='answer'>"
      ]
     },
     "execution_count": 4,
     "metadata": {},
     "output_type": "execute_result"
    },
    {
     "data": {
      "image/png": "[encoded data removed]",
      "text/plain": [
       "<Figure size 640x480 with 1 Axes>"
      ]
     },
     "metadata": {},
     "output_type": "display_data"
    }
   ],
   "source": [
    "train_df['answer']=train_df['answer'].str.replace('ANSWER: ','').str.strip()\n",
    "train_df['answer'].value_counts().plot(kind='bar')"
   ]
  },
  {
   "cell_type": "code",
   "execution_count": 5,
   "id": "7df6802b",
   "metadata": {
    "execution": {
     "iopub.execute_input": "2025-03-30T11:57:46.809128Z",
     "iopub.status.busy": "2025-03-30T11:57:46.808823Z",
     "iopub.status.idle": "2025-03-30T11:57:46.817159Z",
     "shell.execute_reply": "2025-03-30T11:57:46.816342Z"
    },
    "papermill": {
     "duration": 0.01934,
     "end_time": "2025-03-30T11:57:46.818612",
     "exception": false,
     "start_time": "2025-03-30T11:57:46.799272",
     "status": "completed"
    },
    "tags": []
   },
   "outputs": [
    {
     "data": {
      "text/plain": [
       "answer      14\n",
       "task_id      0\n",
       "question     0\n",
       "choices      0\n",
       "dtype: int64"
      ]
     },
     "execution_count": 5,
     "metadata": {},
     "output_type": "execute_result"
    }
   ],
   "source": [
    "train_df.isna().sum().sort_values(ascending=False)"
   ]
  },
  {
   "cell_type": "code",
   "execution_count": 6,
   "id": "5ade87f5",
   "metadata": {
    "execution": {
     "iopub.execute_input": "2025-03-30T11:57:46.838504Z",
     "iopub.status.busy": "2025-03-30T11:57:46.838111Z",
     "iopub.status.idle": "2025-03-30T11:57:46.851278Z",
     "shell.execute_reply": "2025-03-30T11:57:46.850411Z"
    },
    "papermill": {
     "duration": 0.02494,
     "end_time": "2025-03-30T11:57:46.852931",
     "exception": false,
     "start_time": "2025-03-30T11:57:46.827991",
     "status": "completed"
    },
    "tags": []
   },
   "outputs": [
    {
     "data": {
      "text/plain": [
       "task_id     0\n",
       "question    0\n",
       "choices     0\n",
       "answer      0\n",
       "dtype: int64"
      ]
     },
     "execution_count": 6,
     "metadata": {},
     "output_type": "execute_result"
    }
   ],
   "source": [
    "train_df.dropna(inplace=True)\n",
    "train_df.isna().sum()"
   ]
  },
  {
   "cell_type": "code",
   "execution_count": 7,
   "id": "aaafb2db",
   "metadata": {
    "execution": {
     "iopub.execute_input": "2025-03-30T11:57:46.872588Z",
     "iopub.status.busy": "2025-03-30T11:57:46.872232Z",
     "iopub.status.idle": "2025-03-30T11:57:46.879469Z",
     "shell.execute_reply": "2025-03-30T11:57:46.878673Z"
    },
    "papermill": {
     "duration": 0.018592,
     "end_time": "2025-03-30T11:57:46.880873",
     "exception": false,
     "start_time": "2025-03-30T11:57:46.862281",
     "status": "completed"
    },
    "tags": []
   },
   "outputs": [
    {
     "data": {
      "text/plain": [
       "answer\n",
       "A    1066\n",
       "B    1033\n",
       "C    1004\n",
       "D     838\n",
       "E       7\n",
       "G       1\n",
       "Name: count, dtype: int64"
      ]
     },
     "execution_count": 7,
     "metadata": {},
     "output_type": "execute_result"
    }
   ],
   "source": [
    "train_df['answer'].value_counts()"
   ]
  },
  {
   "cell_type": "code",
   "execution_count": 8,
   "id": "75b5e426",
   "metadata": {
    "execution": {
     "iopub.execute_input": "2025-03-30T11:57:46.900209Z",
     "iopub.status.busy": "2025-03-30T11:57:46.899918Z",
     "iopub.status.idle": "2025-03-30T11:57:47.025177Z",
     "shell.execute_reply": "2025-03-30T11:57:47.024441Z"
    },
    "papermill": {
     "duration": 0.136869,
     "end_time": "2025-03-30T11:57:47.026818",
     "exception": false,
     "start_time": "2025-03-30T11:57:46.889949",
     "status": "completed"
    },
    "tags": []
   },
   "outputs": [],
   "source": [
    "#Reference: https://github.com/FSoft-AI4Code/CodeMMLU/blob/main/src/codemmlu/task_utils.py\n",
    "import ast\n",
    "from string import ascii_uppercase\n",
    "train_df['choices'] = train_df['choices'].apply(lambda x:\"\\n\".join([f\"({ascii_uppercase[idx]}) {choice}\" for idx, choice in enumerate(ast.literal_eval(x))]))"
   ]
  },
  {
   "cell_type": "code",
   "execution_count": 9,
   "id": "663ecdc2",
   "metadata": {
    "execution": {
     "iopub.execute_input": "2025-03-30T11:57:47.046228Z",
     "iopub.status.busy": "2025-03-30T11:57:47.045908Z",
     "iopub.status.idle": "2025-03-30T11:57:47.056204Z",
     "shell.execute_reply": "2025-03-30T11:57:47.055306Z"
    },
    "papermill": {
     "duration": 0.021559,
     "end_time": "2025-03-30T11:57:47.057576",
     "exception": false,
     "start_time": "2025-03-30T11:57:47.036017",
     "status": "completed"
    },
    "tags": []
   },
   "outputs": [
    {
     "data": {
      "text/html": [
       "<div>\n",
       "<style scoped>\n",
       "    .dataframe tbody tr th:only-of-type {\n",
       "        vertical-align: middle;\n",
       "    }\n",
       "\n",
       "    .dataframe tbody tr th {\n",
       "        vertical-align: top;\n",
       "    }\n",
       "\n",
       "    .dataframe thead th {\n",
       "        text-align: right;\n",
       "    }\n",
       "</style>\n",
       "<table border=\"1\" class=\"dataframe\">\n",
       "  <thead>\n",
       "    <tr style=\"text-align: right;\">\n",
       "      <th></th>\n",
       "      <th>task_id</th>\n",
       "      <th>question</th>\n",
       "      <th>choices</th>\n",
       "      <th>answer</th>\n",
       "    </tr>\n",
       "  </thead>\n",
       "  <tbody>\n",
       "    <tr>\n",
       "      <th>0</th>\n",
       "      <td>k10168</td>\n",
       "      <td>Question: What will be output of the following...</td>\n",
       "      <td>(A) 8 4 2\\n(B) 8 4 2\\n(C) 8 4 4\\n(D) 8 4 3</td>\n",
       "      <td>C</td>\n",
       "    </tr>\n",
       "    <tr>\n",
       "      <th>1</th>\n",
       "      <td>k10173</td>\n",
       "      <td>Question: What will be output of the following...</td>\n",
       "      <td>(A) -4\\n(B) -5\\n(C) 10\\n(D) 11</td>\n",
       "      <td>A</td>\n",
       "    </tr>\n",
       "    <tr>\n",
       "      <th>2</th>\n",
       "      <td>k10174</td>\n",
       "      <td>Question: Match the following.\\n      Group 1 ...</td>\n",
       "      <td>(A) P-4. Q-1, R-2, S-3\\n(B) P-3, Q-1, R-4, S-2...</td>\n",
       "      <td>B</td>\n",
       "    </tr>\n",
       "    <tr>\n",
       "      <th>3</th>\n",
       "      <td>k10175</td>\n",
       "      <td>Question: Match the following.\\nP. Regular exp...</td>\n",
       "      <td>(A) P-4. Q-1, R-2, S-3\\n(B) P-3, Q-1, R-4, S-2...</td>\n",
       "      <td>B</td>\n",
       "    </tr>\n",
       "    <tr>\n",
       "      <th>4</th>\n",
       "      <td>k10176</td>\n",
       "      <td>Question: Which grammar rules violate the requ...</td>\n",
       "      <td>(A) 1 only\\n(B) 1 and 3 only\\n(C) 2 and 3 only...</td>\n",
       "      <td>B</td>\n",
       "    </tr>\n",
       "    <tr>\n",
       "      <th>...</th>\n",
       "      <td>...</td>\n",
       "      <td>...</td>\n",
       "      <td>...</td>\n",
       "      <td>...</td>\n",
       "    </tr>\n",
       "    <tr>\n",
       "      <th>3958</th>\n",
       "      <td>k00695</td>\n",
       "      <td>Question: Which technique is used in React Memo?</td>\n",
       "      <td>(A) Hashing\\n(B) Memoization\\n(C) Sorting\\n(D)...</td>\n",
       "      <td>B</td>\n",
       "    </tr>\n",
       "    <tr>\n",
       "      <th>3959</th>\n",
       "      <td>k00696</td>\n",
       "      <td>Question: What is the correct definition of pr...</td>\n",
       "      <td>(A) Concept of passing data as props through i...</td>\n",
       "      <td>A</td>\n",
       "    </tr>\n",
       "    <tr>\n",
       "      <th>3960</th>\n",
       "      <td>k00697</td>\n",
       "      <td>Question: What is the correct syntax for  arro...</td>\n",
       "      <td>(A) ()\\n(B) =&gt;\\n(C) ()=&gt;\\n(D) &gt;=()</td>\n",
       "      <td>C</td>\n",
       "    </tr>\n",
       "    <tr>\n",
       "      <th>3961</th>\n",
       "      <td>k00698</td>\n",
       "      <td>Question: Which of the following is the correc...</td>\n",
       "      <td>(A) It is a temporary storage of elements\\n(B)...</td>\n",
       "      <td>B</td>\n",
       "    </tr>\n",
       "    <tr>\n",
       "      <th>3962</th>\n",
       "      <td>k00701</td>\n",
       "      <td>Question: ___ can be done while multiple eleme...</td>\n",
       "      <td>(A) Abstraction\\n(B) Packing\\n(C) Insulation\\n...</td>\n",
       "      <td>D</td>\n",
       "    </tr>\n",
       "  </tbody>\n",
       "</table>\n",
       "<p>3949 rows × 4 columns</p>\n",
       "</div>"
      ],
      "text/plain": [
       "     task_id                                           question  \\\n",
       "0     k10168  Question: What will be output of the following...   \n",
       "1     k10173  Question: What will be output of the following...   \n",
       "2     k10174  Question: Match the following.\\n      Group 1 ...   \n",
       "3     k10175  Question: Match the following.\\nP. Regular exp...   \n",
       "4     k10176  Question: Which grammar rules violate the requ...   \n",
       "...      ...                                                ...   \n",
       "3958  k00695   Question: Which technique is used in React Memo?   \n",
       "3959  k00696  Question: What is the correct definition of pr...   \n",
       "3960  k00697  Question: What is the correct syntax for  arro...   \n",
       "3961  k00698  Question: Which of the following is the correc...   \n",
       "3962  k00701  Question: ___ can be done while multiple eleme...   \n",
       "\n",
       "                                                choices answer  \n",
       "0            (A) 8 4 2\\n(B) 8 4 2\\n(C) 8 4 4\\n(D) 8 4 3      C  \n",
       "1                        (A) -4\\n(B) -5\\n(C) 10\\n(D) 11      A  \n",
       "2     (A) P-4. Q-1, R-2, S-3\\n(B) P-3, Q-1, R-4, S-2...      B  \n",
       "3     (A) P-4. Q-1, R-2, S-3\\n(B) P-3, Q-1, R-4, S-2...      B  \n",
       "4     (A) 1 only\\n(B) 1 and 3 only\\n(C) 2 and 3 only...      B  \n",
       "...                                                 ...    ...  \n",
       "3958  (A) Hashing\\n(B) Memoization\\n(C) Sorting\\n(D)...      B  \n",
       "3959  (A) Concept of passing data as props through i...      A  \n",
       "3960                 (A) ()\\n(B) =>\\n(C) ()=>\\n(D) >=()      C  \n",
       "3961  (A) It is a temporary storage of elements\\n(B)...      B  \n",
       "3962  (A) Abstraction\\n(B) Packing\\n(C) Insulation\\n...      D  \n",
       "\n",
       "[3949 rows x 4 columns]"
      ]
     },
     "execution_count": 9,
     "metadata": {},
     "output_type": "execute_result"
    }
   ],
   "source": [
    "train_df"
   ]
  },
  {
   "cell_type": "code",
   "execution_count": 10,
   "id": "f1ee0f4a",
   "metadata": {
    "execution": {
     "iopub.execute_input": "2025-03-30T11:57:47.077264Z",
     "iopub.status.busy": "2025-03-30T11:57:47.076967Z",
     "iopub.status.idle": "2025-03-30T11:57:48.733137Z",
     "shell.execute_reply": "2025-03-30T11:57:48.732159Z"
    },
    "papermill": {
     "duration": 1.667695,
     "end_time": "2025-03-30T11:57:48.734787",
     "exception": false,
     "start_time": "2025-03-30T11:57:47.067092",
     "status": "completed"
    },
    "tags": []
   },
   "outputs": [
    {
     "data": {
      "text/html": [
       "<div>\n",
       "<style scoped>\n",
       "    .dataframe tbody tr th:only-of-type {\n",
       "        vertical-align: middle;\n",
       "    }\n",
       "\n",
       "    .dataframe tbody tr th {\n",
       "        vertical-align: top;\n",
       "    }\n",
       "\n",
       "    .dataframe thead th {\n",
       "        text-align: right;\n",
       "    }\n",
       "</style>\n",
       "<table border=\"1\" class=\"dataframe\">\n",
       "  <thead>\n",
       "    <tr style=\"text-align: right;\">\n",
       "      <th></th>\n",
       "      <th>task_id</th>\n",
       "      <th>question</th>\n",
       "      <th>choices</th>\n",
       "      <th>answer</th>\n",
       "    </tr>\n",
       "  </thead>\n",
       "  <tbody>\n",
       "    <tr>\n",
       "      <th>2610</th>\n",
       "      <td>k07973</td>\n",
       "      <td>Question: What is the output of the following ...</td>\n",
       "      <td>(A) 16\\n(B) 4\\n(C) 8\\n(D) None of the above\\n(...</td>\n",
       "      <td>B</td>\n",
       "    </tr>\n",
       "    <tr>\n",
       "      <th>3873</th>\n",
       "      <td>k00591</td>\n",
       "      <td>Question: What is the use of useState() hook?</td>\n",
       "      <td>(A) It allows you to have state variables in f...</td>\n",
       "      <td>A</td>\n",
       "    </tr>\n",
       "    <tr>\n",
       "      <th>2795</th>\n",
       "      <td>k08158</td>\n",
       "      <td>Question: Which SQL function is used to find t...</td>\n",
       "      <td>(A) AVG()\\n(B) SUM()\\n(C) COUNT()\\n(D) MAX()</td>\n",
       "      <td>D</td>\n",
       "    </tr>\n",
       "    <tr>\n",
       "      <th>2212</th>\n",
       "      <td>k08920</td>\n",
       "      <td>Question: Consider the following statements:i....</td>\n",
       "      <td>(A) (ii) is true\\n(B) (i) and (ii) are true\\n(...</td>\n",
       "      <td>C</td>\n",
       "    </tr>\n",
       "    <tr>\n",
       "      <th>2866</th>\n",
       "      <td>k00845</td>\n",
       "      <td>Question: What will be the output of the follo...</td>\n",
       "      <td>(A) 25\\n(B) -5\\n(C) 11\\n(D) 16</td>\n",
       "      <td>C</td>\n",
       "    </tr>\n",
       "    <tr>\n",
       "      <th>...</th>\n",
       "      <td>...</td>\n",
       "      <td>...</td>\n",
       "      <td>...</td>\n",
       "      <td>...</td>\n",
       "    </tr>\n",
       "    <tr>\n",
       "      <th>1443</th>\n",
       "      <td>rt03566</td>\n",
       "      <td>Question: Given a code snippet below, which be...</td>\n",
       "      <td>(A) Compile Error\\n(B) Time Limit Exceeded\\n(C...</td>\n",
       "      <td>D</td>\n",
       "    </tr>\n",
       "    <tr>\n",
       "      <th>2636</th>\n",
       "      <td>k07999</td>\n",
       "      <td>Question: A relation r(A,B) in a relational da...</td>\n",
       "      <td>(A) 820\\n(B) 1200\\n(C) 960\\n(D) 1000</td>\n",
       "      <td>A</td>\n",
       "    </tr>\n",
       "    <tr>\n",
       "      <th>2840</th>\n",
       "      <td>k08203</td>\n",
       "      <td>Question: What does the SQL keyword \"DISTINCT\"...</td>\n",
       "      <td>(A) Filters duplicate rows from the result set...</td>\n",
       "      <td>A</td>\n",
       "    </tr>\n",
       "    <tr>\n",
       "      <th>2150</th>\n",
       "      <td>k08575</td>\n",
       "      <td>Question: Which of the following are component...</td>\n",
       "      <td>(A) Key\\n(B) Hash Function\\n(C) Hash Table\\n(D...</td>\n",
       "      <td>D</td>\n",
       "    </tr>\n",
       "    <tr>\n",
       "      <th>2558</th>\n",
       "      <td>k07921</td>\n",
       "      <td>Question: Which option is true about the SQL q...</td>\n",
       "      <td>(A) It will display all the employees having l...</td>\n",
       "      <td>A</td>\n",
       "    </tr>\n",
       "  </tbody>\n",
       "</table>\n",
       "<p>3750 rows × 4 columns</p>\n",
       "</div>"
      ],
      "text/plain": [
       "      task_id                                           question  \\\n",
       "2610   k07973  Question: What is the output of the following ...   \n",
       "3873   k00591      Question: What is the use of useState() hook?   \n",
       "2795   k08158  Question: Which SQL function is used to find t...   \n",
       "2212   k08920  Question: Consider the following statements:i....   \n",
       "2866   k00845  Question: What will be the output of the follo...   \n",
       "...       ...                                                ...   \n",
       "1443  rt03566  Question: Given a code snippet below, which be...   \n",
       "2636   k07999  Question: A relation r(A,B) in a relational da...   \n",
       "2840   k08203  Question: What does the SQL keyword \"DISTINCT\"...   \n",
       "2150   k08575  Question: Which of the following are component...   \n",
       "2558   k07921  Question: Which option is true about the SQL q...   \n",
       "\n",
       "                                                choices answer  \n",
       "2610  (A) 16\\n(B) 4\\n(C) 8\\n(D) None of the above\\n(...      B  \n",
       "3873  (A) It allows you to have state variables in f...      A  \n",
       "2795       (A) AVG()\\n(B) SUM()\\n(C) COUNT()\\n(D) MAX()      D  \n",
       "2212  (A) (ii) is true\\n(B) (i) and (ii) are true\\n(...      C  \n",
       "2866                     (A) 25\\n(B) -5\\n(C) 11\\n(D) 16      C  \n",
       "...                                                 ...    ...  \n",
       "1443  (A) Compile Error\\n(B) Time Limit Exceeded\\n(C...      D  \n",
       "2636               (A) 820\\n(B) 1200\\n(C) 960\\n(D) 1000      A  \n",
       "2840  (A) Filters duplicate rows from the result set...      A  \n",
       "2150  (A) Key\\n(B) Hash Function\\n(C) Hash Table\\n(D...      D  \n",
       "2558  (A) It will display all the employees having l...      A  \n",
       "\n",
       "[3750 rows x 4 columns]"
      ]
     },
     "execution_count": 10,
     "metadata": {},
     "output_type": "execute_result"
    }
   ],
   "source": [
    "from sklearn.model_selection import train_test_split\n",
    "\n",
    "train_df_without_G=train_df[train_df['answer']!='G']\n",
    "train,validation= train_test_split(train_df_without_G, test_size=0.05,random_state=0,stratify=train_df_without_G['answer'])\n",
    "train"
   ]
  },
  {
   "cell_type": "code",
   "execution_count": 11,
   "id": "0bdff565",
   "metadata": {
    "execution": {
     "iopub.execute_input": "2025-03-30T11:57:48.755065Z",
     "iopub.status.busy": "2025-03-30T11:57:48.754598Z",
     "iopub.status.idle": "2025-03-30T11:57:48.760808Z",
     "shell.execute_reply": "2025-03-30T11:57:48.760061Z"
    },
    "papermill": {
     "duration": 0.017936,
     "end_time": "2025-03-30T11:57:48.762388",
     "exception": false,
     "start_time": "2025-03-30T11:57:48.744452",
     "status": "completed"
    },
    "tags": []
   },
   "outputs": [],
   "source": [
    "train=pd.concat([train,train_df[train_df['answer']=='G']])"
   ]
  },
  {
   "cell_type": "code",
   "execution_count": 12,
   "id": "7a985cae",
   "metadata": {
    "execution": {
     "iopub.execute_input": "2025-03-30T11:57:48.783078Z",
     "iopub.status.busy": "2025-03-30T11:57:48.782717Z",
     "iopub.status.idle": "2025-03-30T11:57:48.792799Z",
     "shell.execute_reply": "2025-03-30T11:57:48.791847Z"
    },
    "papermill": {
     "duration": 0.022092,
     "end_time": "2025-03-30T11:57:48.794140",
     "exception": false,
     "start_time": "2025-03-30T11:57:48.772048",
     "status": "completed"
    },
    "tags": []
   },
   "outputs": [
    {
     "data": {
      "text/html": [
       "<div>\n",
       "<style scoped>\n",
       "    .dataframe tbody tr th:only-of-type {\n",
       "        vertical-align: middle;\n",
       "    }\n",
       "\n",
       "    .dataframe tbody tr th {\n",
       "        vertical-align: top;\n",
       "    }\n",
       "\n",
       "    .dataframe thead th {\n",
       "        text-align: right;\n",
       "    }\n",
       "</style>\n",
       "<table border=\"1\" class=\"dataframe\">\n",
       "  <thead>\n",
       "    <tr style=\"text-align: right;\">\n",
       "      <th></th>\n",
       "      <th>task_id</th>\n",
       "      <th>question</th>\n",
       "      <th>choices</th>\n",
       "      <th>answer</th>\n",
       "    </tr>\n",
       "  </thead>\n",
       "  <tbody>\n",
       "    <tr>\n",
       "      <th>2610</th>\n",
       "      <td>k07973</td>\n",
       "      <td>Question: What is the output of the following ...</td>\n",
       "      <td>(A) 16\\n(B) 4\\n(C) 8\\n(D) None of the above\\n(...</td>\n",
       "      <td>B</td>\n",
       "    </tr>\n",
       "    <tr>\n",
       "      <th>3873</th>\n",
       "      <td>k00591</td>\n",
       "      <td>Question: What is the use of useState() hook?</td>\n",
       "      <td>(A) It allows you to have state variables in f...</td>\n",
       "      <td>A</td>\n",
       "    </tr>\n",
       "    <tr>\n",
       "      <th>2795</th>\n",
       "      <td>k08158</td>\n",
       "      <td>Question: Which SQL function is used to find t...</td>\n",
       "      <td>(A) AVG()\\n(B) SUM()\\n(C) COUNT()\\n(D) MAX()</td>\n",
       "      <td>D</td>\n",
       "    </tr>\n",
       "    <tr>\n",
       "      <th>2212</th>\n",
       "      <td>k08920</td>\n",
       "      <td>Question: Consider the following statements:i....</td>\n",
       "      <td>(A) (ii) is true\\n(B) (i) and (ii) are true\\n(...</td>\n",
       "      <td>C</td>\n",
       "    </tr>\n",
       "    <tr>\n",
       "      <th>2866</th>\n",
       "      <td>k00845</td>\n",
       "      <td>Question: What will be the output of the follo...</td>\n",
       "      <td>(A) 25\\n(B) -5\\n(C) 11\\n(D) 16</td>\n",
       "      <td>C</td>\n",
       "    </tr>\n",
       "    <tr>\n",
       "      <th>...</th>\n",
       "      <td>...</td>\n",
       "      <td>...</td>\n",
       "      <td>...</td>\n",
       "      <td>...</td>\n",
       "    </tr>\n",
       "    <tr>\n",
       "      <th>2636</th>\n",
       "      <td>k07999</td>\n",
       "      <td>Question: A relation r(A,B) in a relational da...</td>\n",
       "      <td>(A) 820\\n(B) 1200\\n(C) 960\\n(D) 1000</td>\n",
       "      <td>A</td>\n",
       "    </tr>\n",
       "    <tr>\n",
       "      <th>2840</th>\n",
       "      <td>k08203</td>\n",
       "      <td>Question: What does the SQL keyword \"DISTINCT\"...</td>\n",
       "      <td>(A) Filters duplicate rows from the result set...</td>\n",
       "      <td>A</td>\n",
       "    </tr>\n",
       "    <tr>\n",
       "      <th>2150</th>\n",
       "      <td>k08575</td>\n",
       "      <td>Question: Which of the following are component...</td>\n",
       "      <td>(A) Key\\n(B) Hash Function\\n(C) Hash Table\\n(D...</td>\n",
       "      <td>D</td>\n",
       "    </tr>\n",
       "    <tr>\n",
       "      <th>2558</th>\n",
       "      <td>k07921</td>\n",
       "      <td>Question: Which option is true about the SQL q...</td>\n",
       "      <td>(A) It will display all the employees having l...</td>\n",
       "      <td>A</td>\n",
       "    </tr>\n",
       "    <tr>\n",
       "      <th>1332</th>\n",
       "      <td>rt02294</td>\n",
       "      <td>Question: Look at the problem below, the solut...</td>\n",
       "      <td>(A)     https://cp-algorithms.com/string/z-fun...</td>\n",
       "      <td>G</td>\n",
       "    </tr>\n",
       "  </tbody>\n",
       "</table>\n",
       "<p>3751 rows × 4 columns</p>\n",
       "</div>"
      ],
      "text/plain": [
       "      task_id                                           question  \\\n",
       "2610   k07973  Question: What is the output of the following ...   \n",
       "3873   k00591      Question: What is the use of useState() hook?   \n",
       "2795   k08158  Question: Which SQL function is used to find t...   \n",
       "2212   k08920  Question: Consider the following statements:i....   \n",
       "2866   k00845  Question: What will be the output of the follo...   \n",
       "...       ...                                                ...   \n",
       "2636   k07999  Question: A relation r(A,B) in a relational da...   \n",
       "2840   k08203  Question: What does the SQL keyword \"DISTINCT\"...   \n",
       "2150   k08575  Question: Which of the following are component...   \n",
       "2558   k07921  Question: Which option is true about the SQL q...   \n",
       "1332  rt02294  Question: Look at the problem below, the solut...   \n",
       "\n",
       "                                                choices answer  \n",
       "2610  (A) 16\\n(B) 4\\n(C) 8\\n(D) None of the above\\n(...      B  \n",
       "3873  (A) It allows you to have state variables in f...      A  \n",
       "2795       (A) AVG()\\n(B) SUM()\\n(C) COUNT()\\n(D) MAX()      D  \n",
       "2212  (A) (ii) is true\\n(B) (i) and (ii) are true\\n(...      C  \n",
       "2866                     (A) 25\\n(B) -5\\n(C) 11\\n(D) 16      C  \n",
       "...                                                 ...    ...  \n",
       "2636               (A) 820\\n(B) 1200\\n(C) 960\\n(D) 1000      A  \n",
       "2840  (A) Filters duplicate rows from the result set...      A  \n",
       "2150  (A) Key\\n(B) Hash Function\\n(C) Hash Table\\n(D...      D  \n",
       "2558  (A) It will display all the employees having l...      A  \n",
       "1332  (A)     https://cp-algorithms.com/string/z-fun...      G  \n",
       "\n",
       "[3751 rows x 4 columns]"
      ]
     },
     "execution_count": 12,
     "metadata": {},
     "output_type": "execute_result"
    }
   ],
   "source": [
    "train"
   ]
  },
  {
   "cell_type": "markdown",
   "id": "ac69c6a8",
   "metadata": {
    "papermill": {
     "duration": 0.009623,
     "end_time": "2025-03-30T11:57:48.814125",
     "exception": false,
     "start_time": "2025-03-30T11:57:48.804502",
     "status": "completed"
    },
    "tags": []
   },
   "source": [
    "## 2. Baseline"
   ]
  },
  {
   "cell_type": "code",
   "execution_count": 13,
   "id": "80f7aae1",
   "metadata": {
    "execution": {
     "iopub.execute_input": "2025-03-30T11:57:48.834869Z",
     "iopub.status.busy": "2025-03-30T11:57:48.834527Z",
     "iopub.status.idle": "2025-03-30T11:57:48.988293Z",
     "shell.execute_reply": "2025-03-30T11:57:48.987554Z"
    },
    "papermill": {
     "duration": 0.166087,
     "end_time": "2025-03-30T11:57:48.990021",
     "exception": false,
     "start_time": "2025-03-30T11:57:48.823934",
     "status": "completed"
    },
    "tags": []
   },
   "outputs": [],
   "source": [
    "import os\n",
    "import getpass\n",
    "from kaggle_secrets import UserSecretsClient\n",
    "user_secrets = UserSecretsClient()\n",
    "\n",
    "os.environ[\"TOGETHER_API_KEY\"] = user_secrets.get_secret(\"TOGETHER_API\")\n",
    "os.environ[\"OPENAI_API_KEY\"] =user_secrets.get_secret(\"OPENAI_API\")"
   ]
  },
  {
   "cell_type": "code",
   "execution_count": 14,
   "id": "679d341e",
   "metadata": {
    "execution": {
     "iopub.execute_input": "2025-03-30T11:57:49.012596Z",
     "iopub.status.busy": "2025-03-30T11:57:49.012234Z",
     "iopub.status.idle": "2025-03-30T11:57:56.872755Z",
     "shell.execute_reply": "2025-03-30T11:57:56.871449Z"
    },
    "papermill": {
     "duration": 7.872665,
     "end_time": "2025-03-30T11:57:56.874256",
     "exception": false,
     "start_time": "2025-03-30T11:57:49.001591",
     "status": "completed"
    },
    "tags": []
   },
   "outputs": [
    {
     "name": "stdout",
     "output_type": "stream",
     "text": [
      "Collecting together\r\n",
      "  Downloading together-1.5.4-py3-none-any.whl.metadata (14 kB)\r\n",
      "Requirement already satisfied: aiohttp<4.0.0,>=3.9.3 in /usr/local/lib/python3.10/dist-packages (from together) (3.11.12)\r\n",
      "Requirement already satisfied: click<9.0.0,>=8.1.7 in /usr/local/lib/python3.10/dist-packages (from together) (8.1.7)\r\n",
      "Requirement already satisfied: eval-type-backport<0.3.0,>=0.1.3 in /usr/local/lib/python3.10/dist-packages (from together) (0.2.0)\r\n",
      "Requirement already satisfied: filelock<4.0.0,>=3.13.1 in /usr/local/lib/python3.10/dist-packages (from together) (3.17.0)\r\n",
      "Requirement already satisfied: numpy>=1.23.5 in /usr/local/lib/python3.10/dist-packages (from together) (1.26.4)\r\n",
      "Collecting pillow<12.0.0,>=11.1.0 (from together)\r\n",
      "  Downloading pillow-11.1.0-cp310-cp310-manylinux_2_28_x86_64.whl.metadata (9.1 kB)\r\n",
      "Requirement already satisfied: pyarrow>=10.0.1 in /usr/local/lib/python3.10/dist-packages (from together) (19.0.1)\r\n",
      "Requirement already satisfied: pydantic<3.0.0,>=2.6.3 in /usr/local/lib/python3.10/dist-packages (from together) (2.11.0a2)\r\n",
      "Requirement already satisfied: requests<3.0.0,>=2.31.0 in /usr/local/lib/python3.10/dist-packages (from together) (2.32.3)\r\n",
      "Requirement already satisfied: rich<14.0.0,>=13.8.1 in /usr/local/lib/python3.10/dist-packages (from together) (13.9.4)\r\n",
      "Requirement already satisfied: tabulate<0.10.0,>=0.9.0 in /usr/local/lib/python3.10/dist-packages (from together) (0.9.0)\r\n",
      "Requirement already satisfied: tqdm<5.0.0,>=4.66.2 in /usr/local/lib/python3.10/dist-packages (from together) (4.67.1)\r\n",
      "Requirement already satisfied: typer<0.16,>=0.9 in /usr/local/lib/python3.10/dist-packages (from together) (0.15.1)\r\n",
      "Requirement already satisfied: aiohappyeyeballs>=2.3.0 in /usr/local/lib/python3.10/dist-packages (from aiohttp<4.0.0,>=3.9.3->together) (2.4.6)\r\n",
      "Requirement already satisfied: aiosignal>=1.1.2 in /usr/local/lib/python3.10/dist-packages (from aiohttp<4.0.0,>=3.9.3->together) (1.3.2)\r\n",
      "Requirement already satisfied: async-timeout<6.0,>=4.0 in /usr/local/lib/python3.10/dist-packages (from aiohttp<4.0.0,>=3.9.3->together) (5.0.1)\r\n",
      "Requirement already satisfied: attrs>=17.3.0 in /usr/local/lib/python3.10/dist-packages (from aiohttp<4.0.0,>=3.9.3->together) (25.1.0)\r\n",
      "Requirement already satisfied: frozenlist>=1.1.1 in /usr/local/lib/python3.10/dist-packages (from aiohttp<4.0.0,>=3.9.3->together) (1.5.0)\r\n",
      "Requirement already satisfied: multidict<7.0,>=4.5 in /usr/local/lib/python3.10/dist-packages (from aiohttp<4.0.0,>=3.9.3->together) (6.1.0)\r\n",
      "Requirement already satisfied: propcache>=0.2.0 in /usr/local/lib/python3.10/dist-packages (from aiohttp<4.0.0,>=3.9.3->together) (0.2.1)\r\n",
      "Requirement already satisfied: yarl<2.0,>=1.17.0 in /usr/local/lib/python3.10/dist-packages (from aiohttp<4.0.0,>=3.9.3->together) (1.18.3)\r\n",
      "Requirement already satisfied: mkl_fft in /usr/local/lib/python3.10/dist-packages (from numpy>=1.23.5->together) (1.3.8)\r\n",
      "Requirement already satisfied: mkl_random in /usr/local/lib/python3.10/dist-packages (from numpy>=1.23.5->together) (1.2.4)\r\n",
      "Requirement already satisfied: mkl_umath in /usr/local/lib/python3.10/dist-packages (from numpy>=1.23.5->together) (0.1.1)\r\n",
      "Requirement already satisfied: mkl in /usr/local/lib/python3.10/dist-packages (from numpy>=1.23.5->together) (2025.0.1)\r\n",
      "Requirement already satisfied: tbb4py in /usr/local/lib/python3.10/dist-packages (from numpy>=1.23.5->together) (2022.0.0)\r\n",
      "Requirement already satisfied: mkl-service in /usr/local/lib/python3.10/dist-packages (from numpy>=1.23.5->together) (2.4.1)\r\n",
      "Requirement already satisfied: annotated-types>=0.6.0 in /usr/local/lib/python3.10/dist-packages (from pydantic<3.0.0,>=2.6.3->together) (0.7.0)\r\n",
      "Requirement already satisfied: pydantic-core==2.29.0 in /usr/local/lib/python3.10/dist-packages (from pydantic<3.0.0,>=2.6.3->together) (2.29.0)\r\n",
      "Requirement already satisfied: typing-extensions>=4.12.2 in /usr/local/lib/python3.10/dist-packages (from pydantic<3.0.0,>=2.6.3->together) (4.12.2)\r\n",
      "Requirement already satisfied: charset-normalizer<4,>=2 in /usr/local/lib/python3.10/dist-packages (from requests<3.0.0,>=2.31.0->together) (3.4.1)\r\n",
      "Requirement already satisfied: idna<4,>=2.5 in /usr/local/lib/python3.10/dist-packages (from requests<3.0.0,>=2.31.0->together) (3.10)\r\n",
      "Requirement already satisfied: urllib3<3,>=1.21.1 in /usr/local/lib/python3.10/dist-packages (from requests<3.0.0,>=2.31.0->together) (2.3.0)\r\n",
      "Requirement already satisfied: certifi>=2017.4.17 in /usr/local/lib/python3.10/dist-packages (from requests<3.0.0,>=2.31.0->together) (2025.1.31)\r\n",
      "Requirement already satisfied: markdown-it-py>=2.2.0 in /usr/local/lib/python3.10/dist-packages (from rich<14.0.0,>=13.8.1->together) (3.0.0)\r\n",
      "Requirement already satisfied: pygments<3.0.0,>=2.13.0 in /usr/local/lib/python3.10/dist-packages (from rich<14.0.0,>=13.8.1->together) (2.19.1)\r\n",
      "Requirement already satisfied: shellingham>=1.3.0 in /usr/local/lib/python3.10/dist-packages (from typer<0.16,>=0.9->together) (1.5.4)\r\n",
      "Requirement already satisfied: mdurl~=0.1 in /usr/local/lib/python3.10/dist-packages (from markdown-it-py>=2.2.0->rich<14.0.0,>=13.8.1->together) (0.1.2)\r\n",
      "Requirement already satisfied: intel-openmp>=2024 in /usr/local/lib/python3.10/dist-packages (from mkl->numpy>=1.23.5->together) (2024.2.0)\r\n",
      "Requirement already satisfied: tbb==2022.* in /usr/local/lib/python3.10/dist-packages (from mkl->numpy>=1.23.5->together) (2022.0.0)\r\n",
      "Requirement already satisfied: tcmlib==1.* in /usr/local/lib/python3.10/dist-packages (from tbb==2022.*->mkl->numpy>=1.23.5->together) (1.2.0)\r\n",
      "Requirement already satisfied: intel-cmplr-lib-rt in /usr/local/lib/python3.10/dist-packages (from mkl_umath->numpy>=1.23.5->together) (2024.2.0)\r\n",
      "Requirement already satisfied: intel-cmplr-lib-ur==2024.2.0 in /usr/local/lib/python3.10/dist-packages (from intel-openmp>=2024->mkl->numpy>=1.23.5->together) (2024.2.0)\r\n",
      "Downloading together-1.5.4-py3-none-any.whl (87 kB)\r\n",
      "\u001b[2K   \u001b[90m━━━━━━━━━━━━━━━━━━━━━━━━━━━━━━━━━━━━━━━━\u001b[0m \u001b[32m87.8/87.8 kB\u001b[0m \u001b[31m2.8 MB/s\u001b[0m eta \u001b[36m0:00:00\u001b[0m\r\n",
      "\u001b[?25hDownloading pillow-11.1.0-cp310-cp310-manylinux_2_28_x86_64.whl (4.5 MB)\r\n",
      "\u001b[2K   \u001b[90m━━━━━━━━━━━━━━━━━━━━━━━━━━━━━━━━━━━━━━━━\u001b[0m \u001b[32m4.5/4.5 MB\u001b[0m \u001b[31m48.6 MB/s\u001b[0m eta \u001b[36m0:00:00\u001b[0m\r\n",
      "\u001b[?25hInstalling collected packages: pillow, together\r\n",
      "  Attempting uninstall: pillow\r\n",
      "    Found existing installation: pillow 11.0.0\r\n",
      "    Uninstalling pillow-11.0.0:\r\n",
      "      Successfully uninstalled pillow-11.0.0\r\n",
      "\u001b[31mERROR: pip's dependency resolver does not currently take into account all the packages that are installed. This behaviour is the source of the following dependency conflicts.\r\n",
      "mlxtend 0.23.3 requires scikit-learn>=1.3.1, but you have scikit-learn 1.2.2 which is incompatible.\r\n",
      "plotnine 0.14.4 requires matplotlib>=3.8.0, but you have matplotlib 3.7.5 which is incompatible.\u001b[0m\u001b[31m\r\n",
      "\u001b[0mSuccessfully installed pillow-11.1.0 together-1.5.4\r\n",
      "Note: you may need to restart the kernel to use updated packages.\n"
     ]
    }
   ],
   "source": [
    "pip install together"
   ]
  },
  {
   "cell_type": "code",
   "execution_count": 15,
   "id": "03150685",
   "metadata": {
    "execution": {
     "iopub.execute_input": "2025-03-30T11:57:56.897716Z",
     "iopub.status.busy": "2025-03-30T11:57:56.897337Z",
     "iopub.status.idle": "2025-03-30T11:57:56.902128Z",
     "shell.execute_reply": "2025-03-30T11:57:56.901135Z"
    },
    "papermill": {
     "duration": 0.018075,
     "end_time": "2025-03-30T11:57:56.903610",
     "exception": false,
     "start_time": "2025-03-30T11:57:56.885535",
     "status": "completed"
    },
    "tags": []
   },
   "outputs": [],
   "source": [
    "zeroshot_prompt = \"\"\"The following are multiple choice questions (with answers) about software development. There is always only one right answer among choices. Response the final answer with the form The answer is (final choice).  \n",
    "\n",
    "{question}\n",
    "{choices}\n",
    "\n",
    "Answer: \"\"\"\n",
    "\n",
    "cot_prompt = \"\"\"The following are multiple choice questions (with answers) about software devopment. There is always only one right answer among choices. Response the final answer with the form The answer is (final choice).\n",
    " \n",
    "{question}\n",
    "{choices}\n",
    "\n",
    "Answer: Let's think step by step. \"\"\""
   ]
  },
  {
   "cell_type": "code",
   "execution_count": 16,
   "id": "4ccead38",
   "metadata": {
    "execution": {
     "iopub.execute_input": "2025-03-30T11:57:56.927049Z",
     "iopub.status.busy": "2025-03-30T11:57:56.926677Z",
     "iopub.status.idle": "2025-03-30T11:57:58.155374Z",
     "shell.execute_reply": "2025-03-30T11:57:58.153742Z"
    },
    "papermill": {
     "duration": 1.242214,
     "end_time": "2025-03-30T11:57:58.156929",
     "exception": true,
     "start_time": "2025-03-30T11:57:56.914715",
     "status": "failed"
    },
    "tags": []
   },
   "outputs": [
    {
     "name": "stdout",
     "output_type": "stream",
     "text": [
      "Zero shot\n"
     ]
    },
    {
     "ename": "APIError",
     "evalue": "Error code: 402 - {\"message\": \"Credit limit exceeded. Please navigate to https://api.together.xyz/settings/billing to add credit or upgrade your plan.\", \"type_\": \"credit_limit\"}",
     "output_type": "error",
     "traceback": [
      "\u001b[0;31m---------------------------------------------------------------------------\u001b[0m",
      "\u001b[0;31mAPIError\u001b[0m                                  Traceback (most recent call last)",
      "\u001b[0;32m<ipython-input-16-01855a44a9b4>\u001b[0m in \u001b[0;36m<cell line: 51>\u001b[0;34m()\u001b[0m\n\u001b[1;32m     53\u001b[0m     \u001b[0;32mfor\u001b[0m \u001b[0midx\u001b[0m \u001b[0;32min\u001b[0m \u001b[0mrange\u001b[0m\u001b[0;34m(\u001b[0m\u001b[0;36m1\u001b[0m\u001b[0;34m)\u001b[0m\u001b[0;34m:\u001b[0m\u001b[0;34m\u001b[0m\u001b[0;34m\u001b[0m\u001b[0m\n\u001b[1;32m     54\u001b[0m         \u001b[0mprint\u001b[0m\u001b[0;34m(\u001b[0m\u001b[0;34m\"Zero shot\"\u001b[0m\u001b[0;34m)\u001b[0m\u001b[0;34m\u001b[0m\u001b[0;34m\u001b[0m\u001b[0m\n\u001b[0;32m---> 55\u001b[0;31m         \u001b[0manswer\u001b[0m\u001b[0;34m=\u001b[0m\u001b[0mget_response\u001b[0m\u001b[0;34m(\u001b[0m\u001b[0mmodel\u001b[0m\u001b[0;34m,\u001b[0m\u001b[0mtest_questions\u001b[0m\u001b[0;34m[\u001b[0m\u001b[0midx\u001b[0m\u001b[0;34m]\u001b[0m\u001b[0;34m,\u001b[0m\u001b[0mtest_choices\u001b[0m\u001b[0;34m[\u001b[0m\u001b[0midx\u001b[0m\u001b[0;34m]\u001b[0m\u001b[0;34m,\u001b[0m\u001b[0mzeroshot_prompt\u001b[0m\u001b[0;34m)\u001b[0m\u001b[0;34m\u001b[0m\u001b[0;34m\u001b[0m\u001b[0m\n\u001b[0m\u001b[1;32m     56\u001b[0m         \u001b[0mprint\u001b[0m\u001b[0;34m(\u001b[0m\u001b[0;34m\"Cot\"\u001b[0m\u001b[0;34m)\u001b[0m\u001b[0;34m\u001b[0m\u001b[0;34m\u001b[0m\u001b[0m\n\u001b[1;32m     57\u001b[0m         \u001b[0manswer\u001b[0m\u001b[0;34m=\u001b[0m\u001b[0mget_response\u001b[0m\u001b[0;34m(\u001b[0m\u001b[0mmodel\u001b[0m\u001b[0;34m,\u001b[0m\u001b[0mtest_questions\u001b[0m\u001b[0;34m[\u001b[0m\u001b[0midx\u001b[0m\u001b[0;34m]\u001b[0m\u001b[0;34m,\u001b[0m\u001b[0mtest_choices\u001b[0m\u001b[0;34m[\u001b[0m\u001b[0midx\u001b[0m\u001b[0;34m]\u001b[0m\u001b[0;34m,\u001b[0m\u001b[0mcot_prompt\u001b[0m\u001b[0;34m)\u001b[0m\u001b[0;34m\u001b[0m\u001b[0;34m\u001b[0m\u001b[0m\n",
      "\u001b[0;32m<ipython-input-16-01855a44a9b4>\u001b[0m in \u001b[0;36mget_response\u001b[0;34m(model, question, choices, prompt)\u001b[0m\n\u001b[1;32m     33\u001b[0m \u001b[0;34m\u001b[0m\u001b[0m\n\u001b[1;32m     34\u001b[0m \u001b[0;32mdef\u001b[0m \u001b[0mget_response\u001b[0m\u001b[0;34m(\u001b[0m\u001b[0mmodel\u001b[0m\u001b[0;34m,\u001b[0m\u001b[0mquestion\u001b[0m\u001b[0;34m,\u001b[0m\u001b[0mchoices\u001b[0m\u001b[0;34m,\u001b[0m\u001b[0mprompt\u001b[0m\u001b[0;34m)\u001b[0m\u001b[0;34m:\u001b[0m\u001b[0;34m\u001b[0m\u001b[0;34m\u001b[0m\u001b[0m\n\u001b[0;32m---> 35\u001b[0;31m     completion = client.chat.completions.create(\n\u001b[0m\u001b[1;32m     36\u001b[0m       \u001b[0mmodel\u001b[0m\u001b[0;34m=\u001b[0m\u001b[0mmodel\u001b[0m\u001b[0;34m,\u001b[0m\u001b[0;34m\u001b[0m\u001b[0;34m\u001b[0m\u001b[0m\n\u001b[1;32m     37\u001b[0m       \u001b[0mtemperature\u001b[0m\u001b[0;34m=\u001b[0m\u001b[0;36m0\u001b[0m\u001b[0;34m,\u001b[0m\u001b[0;34m\u001b[0m\u001b[0;34m\u001b[0m\u001b[0m\n",
      "\u001b[0;32m/usr/local/lib/python3.10/dist-packages/together/resources/chat/completions.py\u001b[0m in \u001b[0;36mcreate\u001b[0;34m(self, messages, model, max_tokens, stop, temperature, top_p, top_k, repetition_penalty, presence_penalty, frequency_penalty, min_p, logit_bias, seed, stream, logprobs, echo, n, safety_model, response_format, tools, tool_choice, **kwargs)\u001b[0m\n\u001b[1;32m    139\u001b[0m         ).model_dump(exclude_none=True)\n\u001b[1;32m    140\u001b[0m \u001b[0;34m\u001b[0m\u001b[0m\n\u001b[0;32m--> 141\u001b[0;31m         response, _, _ = requestor.request(\n\u001b[0m\u001b[1;32m    142\u001b[0m             options=TogetherRequest(\n\u001b[1;32m    143\u001b[0m                 \u001b[0mmethod\u001b[0m\u001b[0;34m=\u001b[0m\u001b[0;34m\"POST\"\u001b[0m\u001b[0;34m,\u001b[0m\u001b[0;34m\u001b[0m\u001b[0;34m\u001b[0m\u001b[0m\n",
      "\u001b[0;32m/usr/local/lib/python3.10/dist-packages/together/abstract/api_requestor.py\u001b[0m in \u001b[0;36mrequest\u001b[0;34m(self, options, stream, remaining_retries, request_timeout)\u001b[0m\n\u001b[1;32m    247\u001b[0m         )\n\u001b[1;32m    248\u001b[0m \u001b[0;34m\u001b[0m\u001b[0m\n\u001b[0;32m--> 249\u001b[0;31m         \u001b[0mresp\u001b[0m\u001b[0;34m,\u001b[0m \u001b[0mgot_stream\u001b[0m \u001b[0;34m=\u001b[0m \u001b[0mself\u001b[0m\u001b[0;34m.\u001b[0m\u001b[0m_interpret_response\u001b[0m\u001b[0;34m(\u001b[0m\u001b[0mresult\u001b[0m\u001b[0;34m,\u001b[0m \u001b[0mstream\u001b[0m\u001b[0;34m)\u001b[0m\u001b[0;34m\u001b[0m\u001b[0;34m\u001b[0m\u001b[0m\n\u001b[0m\u001b[1;32m    250\u001b[0m         \u001b[0;32mreturn\u001b[0m \u001b[0mresp\u001b[0m\u001b[0;34m,\u001b[0m \u001b[0mgot_stream\u001b[0m\u001b[0;34m,\u001b[0m \u001b[0mself\u001b[0m\u001b[0;34m.\u001b[0m\u001b[0mapi_key\u001b[0m\u001b[0;34m\u001b[0m\u001b[0;34m\u001b[0m\u001b[0m\n\u001b[1;32m    251\u001b[0m \u001b[0;34m\u001b[0m\u001b[0m\n",
      "\u001b[0;32m/usr/local/lib/python3.10/dist-packages/together/abstract/api_requestor.py\u001b[0m in \u001b[0;36m_interpret_response\u001b[0;34m(self, result, stream)\u001b[0m\n\u001b[1;32m    633\u001b[0m                 \u001b[0mcontent\u001b[0m \u001b[0;34m=\u001b[0m \u001b[0mresult\u001b[0m\u001b[0;34m.\u001b[0m\u001b[0mcontent\u001b[0m\u001b[0;34m.\u001b[0m\u001b[0mdecode\u001b[0m\u001b[0;34m(\u001b[0m\u001b[0;34m\"utf-8\"\u001b[0m\u001b[0;34m)\u001b[0m\u001b[0;34m\u001b[0m\u001b[0;34m\u001b[0m\u001b[0m\n\u001b[1;32m    634\u001b[0m             return (\n\u001b[0;32m--> 635\u001b[0;31m                 self._interpret_response_line(\n\u001b[0m\u001b[1;32m    636\u001b[0m                     \u001b[0mcontent\u001b[0m\u001b[0;34m,\u001b[0m\u001b[0;34m\u001b[0m\u001b[0;34m\u001b[0m\u001b[0m\n\u001b[1;32m    637\u001b[0m                     \u001b[0mresult\u001b[0m\u001b[0;34m.\u001b[0m\u001b[0mstatus_code\u001b[0m\u001b[0;34m,\u001b[0m\u001b[0;34m\u001b[0m\u001b[0;34m\u001b[0m\u001b[0m\n",
      "\u001b[0;32m/usr/local/lib/python3.10/dist-packages/together/abstract/api_requestor.py\u001b[0m in \u001b[0;36m_interpret_response_line\u001b[0;34m(self, rbody, rcode, rheaders, stream)\u001b[0m\n\u001b[1;32m    705\u001b[0m         \u001b[0;31m# Handle streaming errors\u001b[0m\u001b[0;34m\u001b[0m\u001b[0;34m\u001b[0m\u001b[0m\n\u001b[1;32m    706\u001b[0m         \u001b[0;32mif\u001b[0m \u001b[0;32mnot\u001b[0m \u001b[0;36m200\u001b[0m \u001b[0;34m<=\u001b[0m \u001b[0mrcode\u001b[0m \u001b[0;34m<\u001b[0m \u001b[0;36m300\u001b[0m\u001b[0;34m:\u001b[0m\u001b[0;34m\u001b[0m\u001b[0;34m\u001b[0m\u001b[0m\n\u001b[0;32m--> 707\u001b[0;31m             \u001b[0;32mraise\u001b[0m \u001b[0mself\u001b[0m\u001b[0;34m.\u001b[0m\u001b[0mhandle_error_response\u001b[0m\u001b[0;34m(\u001b[0m\u001b[0mresp\u001b[0m\u001b[0;34m,\u001b[0m \u001b[0mrcode\u001b[0m\u001b[0;34m,\u001b[0m \u001b[0mstream_error\u001b[0m\u001b[0;34m=\u001b[0m\u001b[0mstream\u001b[0m\u001b[0;34m)\u001b[0m\u001b[0;34m\u001b[0m\u001b[0;34m\u001b[0m\u001b[0m\n\u001b[0m\u001b[1;32m    708\u001b[0m         \u001b[0;32mreturn\u001b[0m \u001b[0mresp\u001b[0m\u001b[0;34m\u001b[0m\u001b[0;34m\u001b[0m\u001b[0m\n\u001b[1;32m    709\u001b[0m \u001b[0;34m\u001b[0m\u001b[0m\n",
      "\u001b[0;31mAPIError\u001b[0m: Error code: 402 - {\"message\": \"Credit limit exceeded. Please navigate to https://api.together.xyz/settings/billing to add credit or upgrade your plan.\", \"type_\": \"credit_limit\"}"
     ]
    }
   ],
   "source": [
    "from together import Together\n",
    "import re\n",
    "client = Together()\n",
    "\n",
    "\n",
    "def parse_answer(example): #Refernce: https://github.com/FSoft-AI4Code/CodeMMLU/blob/main/src/codemmlu/task_utils.py\n",
    "        \"\"\"Answer extract function.\n",
    "        \n",
    "        Args:\n",
    "            example (str): The example to extract the answer from\n",
    "        Returns:\n",
    "            str: The extracted answer\n",
    "        \"\"\"\n",
    "        extract = re.search(r\"answer is (\\(*[A-E][\\).]*)\", example, flags=re.IGNORECASE)\n",
    "        if extract:\n",
    "            return extract.group(1).replace(\"(\", \"\").replace(\")\", \"\").replace(\".\", \"\").strip()\n",
    "        \n",
    "        \n",
    "        extract = re.search(r\"(\\(*[A-E][\\).]*) is correct\", example, flags=re.IGNORECASE)\n",
    "        if extract:\n",
    "            return extract.group(1).replace(\"(\", \"\").replace(\")\", \"\").replace(\".\", \"\").strip()\n",
    "        extract = re.search(r\"the correct answer (\\(*[A-E][\\).]*)\", example, flags=re.IGNORECASE)\n",
    "        if extract:\n",
    "            return extract.group(1).replace(\"(\", \"\").replace(\")\", \"\").replace(\".\", \"\").strip()        \n",
    "\n",
    "        match = re.findall(r\"(A|B|C|D|E)\", example)\n",
    "\n",
    "        if match:\n",
    "            # if len(match) > 1:\n",
    "            #     return None\n",
    "            return list(match)[0] # Take the first one\n",
    "        return None\n",
    "\n",
    "def get_response(model,question,choices,prompt):\n",
    "    completion = client.chat.completions.create(\n",
    "      model=model,\n",
    "      temperature=0,\n",
    "      messages=[{\"role\": \"user\", \"content\": prompt.format(question=question,choices=choices)}],\n",
    "    )\n",
    "    answer=parse_answer(completion.choices[0].message.content)\n",
    "    print(f\"{answer}: {completion.choices[0].message.content}\")\n",
    "    assert answer!=None,completion.choices[0].message.content\n",
    "    return answer\n",
    "    \n",
    "models=['Qwen/Qwen2.5-Coder-32B-Instruct']\n",
    "\n",
    "test_questions=validation['question'].tolist()\n",
    "test_choices=validation['choices'].tolist()\n",
    "test_id=validation['task_id'].tolist()\n",
    "\n",
    "for model in models:\n",
    "    answers=[]\n",
    "    for idx in range(1):\n",
    "        print(\"Zero shot\")\n",
    "        answer=get_response(model,test_questions[idx],test_choices[idx],zeroshot_prompt)\n",
    "        print(\"Cot\")\n",
    "        answer=get_response(model,test_questions[idx],test_choices[idx],cot_prompt)\n",
    "    print(f\"Finish {model} \")\n"
   ]
  },
  {
   "cell_type": "code",
   "execution_count": null,
   "id": "06470d07",
   "metadata": {
    "execution": {
     "iopub.execute_input": "2025-03-29T17:09:07.787655Z",
     "iopub.status.busy": "2025-03-29T17:09:07.787339Z",
     "iopub.status.idle": "2025-03-29T18:29:47.893602Z",
     "shell.execute_reply": "2025-03-29T18:29:47.892419Z",
     "shell.execute_reply.started": "2025-03-29T17:09:07.787629Z"
    },
    "papermill": {
     "duration": null,
     "end_time": null,
     "exception": null,
     "start_time": null,
     "status": "pending"
    },
    "tags": []
   },
   "outputs": [],
   "source": [
    "from together import Together\n",
    "import re\n",
    "client = Together()\n",
    "\n",
    "\n",
    "def parse_answer(example): #Refernce: https://github.com/FSoft-AI4Code/CodeMMLU/blob/main/src/codemmlu/task_utils.py\n",
    "        \"\"\"Answer extract function.\n",
    "        \n",
    "        Args:\n",
    "            example (str): The example to extract the answer from\n",
    "        Returns:\n",
    "            str: The extracted answer\n",
    "        \"\"\"\n",
    "        extract = re.search(r\"answer is (\\(*[A-E][\\).]*)\", example, flags=re.IGNORECASE)\n",
    "        if extract:\n",
    "            return extract.group(1).replace(\"(\", \"\").replace(\")\", \"\").replace(\".\", \"\").strip()\n",
    "        \n",
    "        \n",
    "        extract = re.search(r\"(\\(*[A-E][\\).]*) is correct\", example, flags=re.IGNORECASE)\n",
    "        if extract:\n",
    "            return extract.group(1).replace(\"(\", \"\").replace(\")\", \"\").replace(\".\", \"\").strip()\n",
    "        extract = re.search(r\"the correct answer (\\(*[A-E][\\).]*)\", example, flags=re.IGNORECASE)\n",
    "        if extract:\n",
    "            return extract.group(1).replace(\"(\", \"\").replace(\")\", \"\").replace(\".\", \"\").strip()            \n",
    "\n",
    "        match = re.findall(r\"(A|B|C|D|E)\", example)\n",
    "\n",
    "        if match:\n",
    "            # if len(match) > 1:\n",
    "            #     return None\n",
    "            return list(match)[0] # Take the first one\n",
    "        return None\n",
    "\n",
    "def get_response(model,question,choices,prompt):\n",
    "    completion = client.chat.completions.create(\n",
    "      model=model,\n",
    "      temperature=0,\n",
    "      messages=[{\"role\": \"user\", \"content\": prompt.format(question=question,choices=choices)}],\n",
    "    )\n",
    "    answer=parse_answer(completion.choices[0].message.content)\n",
    "    assert answer!=None,completion.choices[0].message.content\n",
    "    return answer\n",
    "    \n",
    "models=['meta-llama/Meta-Llama-3-70B-Instruct-Turbo','meta-llama/Llama-3.3-70B-Instruct-Turbo','Qwen/Qwen2.5-Coder-32B-Instruct','meta-llama/Meta-Llama-3.1-70B-Instruct-Turbo']\n",
    "\n",
    "test_questions=validation['question'].tolist()\n",
    "test_choices=validation['choices'].tolist()\n",
    "test_id=validation['task_id'].tolist()\n",
    "\n",
    "for model in models:\n",
    "    answers=[]\n",
    "    f=open(f\"/kaggle/working/{model.split('/')[1]}_zeroshot\",'w')\n",
    "    for idx in range(len(test_questions)):\n",
    "        answer=get_response(model,test_questions[idx],test_choices[idx],zeroshot_prompt)\n",
    "        f.write(f\"{idx} {test_id[idx]} {answer}\\n\")\n",
    "    f.close()\n",
    "    f_1=open(f\"/kaggle/working/{model.split('/')[1]}_cot\",'w')\n",
    "    for idx in range(len(test_questions)):\n",
    "        answer=get_response(model,test_questions[idx],test_choices[idx],cot_prompt)\n",
    "        f_1.write(f\"{idx} {test_id[idx]} {answer}\\n\")  \n",
    "    f_1.close()\n",
    "    print(f\"Finish {model} \")\n"
   ]
  },
  {
   "cell_type": "code",
   "execution_count": null,
   "id": "c28b5096",
   "metadata": {
    "execution": {
     "iopub.execute_input": "2025-03-29T18:31:00.517252Z",
     "iopub.status.busy": "2025-03-29T18:31:00.516878Z",
     "iopub.status.idle": "2025-03-29T18:53:11.352604Z",
     "shell.execute_reply": "2025-03-29T18:53:11.351616Z",
     "shell.execute_reply.started": "2025-03-29T18:31:00.517221Z"
    },
    "papermill": {
     "duration": null,
     "end_time": null,
     "exception": null,
     "start_time": null,
     "status": "pending"
    },
    "tags": []
   },
   "outputs": [],
   "source": [
    "from openai import OpenAI\n",
    "import re\n",
    "client = OpenAI()\n",
    "def parse_answer(example): #Refernce: https://github.com/FSoft-AI4Code/CodeMMLU/blob/main/src/codemmlu/task_utils.py\n",
    "        \"\"\"Answer extract function.\n",
    "        \n",
    "        Args:\n",
    "            example (str): The example to extract the answer from\n",
    "        Returns:\n",
    "            str: The extracted answer\n",
    "        \"\"\"\n",
    "        extract = re.search(r\"answer is (\\(*[A-E][\\).]*)\", example, flags=re.IGNORECASE)\n",
    "        if extract:\n",
    "            return extract.group(1).replace(\"(\", \"\").replace(\")\", \"\").replace(\".\", \"\").strip()\n",
    "        \n",
    "        \n",
    "        extract = re.search(r\"(\\(*[A-E][\\).]*) is correct\", example, flags=re.IGNORECASE)\n",
    "        if extract:\n",
    "            return extract.group(1).replace(\"(\", \"\").replace(\")\", \"\").replace(\".\", \"\").strip()\n",
    "        \n",
    "\n",
    "        match = re.findall(r\"(A|B|C|D|E)\", example)\n",
    "\n",
    "        if match:\n",
    "            # if len(match) > 1:\n",
    "            #     return None\n",
    "            return list(match)[0] # Take the first one\n",
    "        \n",
    "        return None\n",
    "    \n",
    "def get_response(model,question,choices,prompt):\n",
    "    completion = client.chat.completions.create(\n",
    "      model=model,\n",
    "      temperature=0,\n",
    "      messages=[{\"role\": \"user\", \"content\": prompt.format(question=question,choices=choices)}],\n",
    "    )\n",
    "    answer=parse_answer(completion.choices[0].message.content)\n",
    "    if answer==None:\n",
    "        answer='None'\n",
    "    return answer\n",
    "    \n",
    "test_questions=validation['question'].tolist()\n",
    "test_choices=validation['choices'].tolist()\n",
    "test_id=validation['task_id'].tolist()\n",
    "\n",
    "model='gpt-4o'\n",
    "f=open(f\"/kaggle/working/gpt-4o_zeroshot\",'w')\n",
    "for idx in range(len(test_questions)):\n",
    "    answer=get_response(model,test_questions[idx],test_choices[idx],zeroshot_prompt)\n",
    "    f.write(f\"{idx} {test_id[idx]} {answer}\\n\")\n",
    "f.close()\n",
    "f_1=open(f\"/kaggle/working/gpt-4o_cot\",'w')\n",
    "for idx in range(len(test_questions)):\n",
    "    answer=get_response(model,test_questions[idx],test_choices[idx],cot_prompt)\n",
    "    f_1.write(f\"{idx} {test_id[idx]} {answer}\\n\")  \n",
    "f_1.close()\n",
    "print(f\"Finish {model} \")"
   ]
  },
  {
   "cell_type": "code",
   "execution_count": null,
   "id": "4308a5d3",
   "metadata": {
    "execution": {
     "iopub.execute_input": "2025-03-30T01:54:52.944701Z",
     "iopub.status.busy": "2025-03-30T01:54:52.944401Z",
     "iopub.status.idle": "2025-03-30T01:54:52.958957Z",
     "shell.execute_reply": "2025-03-30T01:54:52.958010Z",
     "shell.execute_reply.started": "2025-03-30T01:54:52.944676Z"
    },
    "papermill": {
     "duration": null,
     "end_time": null,
     "exception": null,
     "start_time": null,
     "status": "pending"
    },
    "tags": []
   },
   "outputs": [],
   "source": [
    "models=['meta-llama/Llama-3.3-70B-Instruct-Turbo','Qwen/Qwen2.5-Coder-32B-Instruct','meta-llama/Meta-Llama-3.1-70B-Instruct-Turbo'\n",
    "       ,'meta-llama/Meta-Llama-3-70B-Instruct-Turbo','OpenAI/gpt-4o']\n",
    "test_answer=validation['answer'].tolist()\n",
    "test_id=validation['task_id'].tolist()\n",
    "answer_dict=dict(zip(test_id, test_answer))\n",
    "total_test=len(test_answer)\n",
    "for model in models:\n",
    "    correct_num=0\n",
    "    f=open(f\"/kaggle/working/{model.split('/')[1]}_zeroshot\",'r')\n",
    "    lines = f.readlines()\n",
    "    for line in lines:\n",
    "        idx=line.split()[1]\n",
    "        answer=line.split()[2]\n",
    "        if answer==answer_dict[idx]:\n",
    "            correct_num+=1\n",
    "    print(f\"Accuracy for {model} in zeroshot: \",float(correct_num*100/total_test),'%')\n",
    "    correct_num=0\n",
    "    f_1=open(f\"/kaggle/working/{model.split('/')[1]}_cot\",'r')\n",
    "    lines_1 = f_1.readlines()\n",
    "    for line in lines_1:\n",
    "        idx=line.split()[1]\n",
    "        answer=line.split()[2]\n",
    "        if answer==answer_dict[idx]:\n",
    "            correct_num+=1\n",
    "    print(f\"Accuracy for {model} in cot: \",float(correct_num*100/total_test),'%')    "
   ]
  },
  {
   "cell_type": "markdown",
   "id": "74e7cc85",
   "metadata": {
    "papermill": {
     "duration": null,
     "end_time": null,
     "exception": null,
     "start_time": null,
     "status": "pending"
    },
    "tags": []
   },
   "source": [
    "## 3. Experiment with Hybrid CoT and ZeroShot"
   ]
  },
  {
   "cell_type": "code",
   "execution_count": null,
   "id": "7f7c7313",
   "metadata": {
    "execution": {
     "iopub.execute_input": "2025-03-29T18:58:37.075344Z",
     "iopub.status.busy": "2025-03-29T18:58:37.074993Z",
     "iopub.status.idle": "2025-03-29T18:58:37.079203Z",
     "shell.execute_reply": "2025-03-29T18:58:37.078112Z",
     "shell.execute_reply.started": "2025-03-29T18:58:37.075314Z"
    },
    "papermill": {
     "duration": null,
     "end_time": null,
     "exception": null,
     "start_time": null,
     "status": "pending"
    },
    "tags": []
   },
   "outputs": [],
   "source": [
    "choose_strategy_prompt=\"\"\"The following are multiple choice questions about software development. \n",
    "Determine whether the given problems involving mathematical or code snippet.\n",
    "Respond with ONLY \"YES\" or \"NO.\"\n",
    "\n",
    "{question}\n",
    "{choices}\n",
    "\"\"\""
   ]
  },
  {
   "cell_type": "code",
   "execution_count": null,
   "id": "ac7b9e3a",
   "metadata": {
    "execution": {
     "iopub.execute_input": "2025-03-29T18:58:44.443548Z",
     "iopub.status.busy": "2025-03-29T18:58:44.443232Z",
     "iopub.status.idle": "2025-03-29T19:00:17.837087Z",
     "shell.execute_reply": "2025-03-29T19:00:17.836205Z",
     "shell.execute_reply.started": "2025-03-29T18:58:44.443522Z"
    },
    "papermill": {
     "duration": null,
     "end_time": null,
     "exception": null,
     "start_time": null,
     "status": "pending"
    },
    "tags": []
   },
   "outputs": [],
   "source": [
    "from openai import OpenAI\n",
    "import re\n",
    "client = OpenAI()\n",
    "f=open(f\"/kaggle/working/validation_test_type\",'w')\n",
    "test_questions=validation['question'].tolist()\n",
    "test_choices=validation['choices'].tolist()\n",
    "test_id=validation['task_id'].tolist()\n",
    "for idx in range(len(test_questions)):\n",
    "    completion_response=client.chat.completions.create(\n",
    "      model='gpt-4o-mini',\n",
    "      temperature=0,\n",
    "      messages=[{\"role\": \"user\", \"content\": choose_strategy_prompt.format(question=test_questions[idx],choices=test_choices[idx])}],\n",
    "    )\n",
    "    answer=completion_response.choices[0].message.content\n",
    "    answer=1 if \"YES\" in answer else 0\n",
    "    f.write(f\"{idx} {test_id[idx]} {answer}\\n\")\n",
    "f.close()"
   ]
  },
  {
   "cell_type": "code",
   "execution_count": null,
   "id": "6361e0bf",
   "metadata": {
    "execution": {
     "iopub.execute_input": "2025-03-29T19:01:36.482221Z",
     "iopub.status.busy": "2025-03-29T19:01:36.481852Z",
     "iopub.status.idle": "2025-03-29T19:01:36.496341Z",
     "shell.execute_reply": "2025-03-29T19:01:36.495279Z",
     "shell.execute_reply.started": "2025-03-29T19:01:36.482189Z"
    },
    "papermill": {
     "duration": null,
     "end_time": null,
     "exception": null,
     "start_time": null,
     "status": "pending"
    },
    "tags": []
   },
   "outputs": [],
   "source": [
    "models=['meta-llama/Llama-3.3-70B-Instruct-Turbo','Qwen/Qwen2.5-Coder-32B-Instruct','meta-llama/Meta-Llama-3.1-70B-Instruct-Turbo'\n",
    "       ,'meta-llama/Meta-Llama-3-70B-Instruct-Turbo','OpenAI/gpt-4o']\n",
    "test_answer=validation['answer'].tolist()\n",
    "test_id=validation['task_id'].tolist()\n",
    "answer_dict=dict(zip(test_id, test_answer))\n",
    "total_test=len(test_answer)\n",
    "f_strategy_type=open(f\"/kaggle/working/validation_test_type\",'r')\n",
    "strategy_choose=f_strategy_type.readlines()\n",
    "for model in models:\n",
    "    correct_num=0\n",
    "    f=open(f\"/kaggle/working/{model.split('/')[1]}_zeroshot\",'r')\n",
    "    lines = f.readlines()\n",
    "    f_1=open(f\"/kaggle/working/{model.split('/')[1]}_cot\",'r')\n",
    "    lines_1 = f_1.readlines()\n",
    "    for idx in range(len(strategy_choose)):\n",
    "        strategy=int(strategy_choose[idx].split()[2])\n",
    "        if strategy==1:\n",
    "            correct_num+=1 if test_answer[idx]==lines_1[idx].split()[2] else 0\n",
    "            #if(test_answer[idx]!=lines_1[idx].split()[2]):\n",
    "                #print(idx)\n",
    "        else:\n",
    "            correct_num+=1 if test_answer[idx]==lines[idx].split()[2] else 0\n",
    "    print(f\"Accuracy for {model}: \",float(correct_num*100/total_test),'%')    "
   ]
  },
  {
   "cell_type": "code",
   "execution_count": null,
   "id": "c85c43d6",
   "metadata": {
    "papermill": {
     "duration": null,
     "end_time": null,
     "exception": null,
     "start_time": null,
     "status": "pending"
    },
    "tags": []
   },
   "outputs": [],
   "source": [
    "models=['OpenAI/gpt-4o']\n",
    "test_questions=validation['question'].tolist()\n",
    "test_answer=validation['answer'].tolist()\n",
    "test_id=validation['task_id'].tolist()\n",
    "answer_dict=dict(zip(test_id, test_answer))\n",
    "total_test=len(test_answer)\n",
    "f_strategy_type=open(f\"/kaggle/working/validation_test_type\",'r')\n",
    "strategy_choose=f_strategy_type.readlines()\n",
    "for model in models:\n",
    "    correct_num=0\n",
    "    f=open(f\"/kaggle/working/{model.split('/')[1]}_zeroshot\",'r')\n",
    "    lines = f.readlines()\n",
    "    f_1=open(f\"/kaggle/working/{model.split('/')[1]}_cot\",'r')\n",
    "    lines_1 = f_1.readlines()\n",
    "    for idx in range(10):\n",
    "        strategy=int(strategy_choose[idx].split()[2])\n",
    "        print(\"Involving reasoning: \",\"YES\" if strategy==1 else \"NO\")\n",
    "        print(\"Question: \",test_questions[idx])\n",
    "        if(test_answer[idx]!=lines_1[idx].split()[2]):\n",
    "            print(\"CoT wrong\")\n",
    "        elif (test_answer[idx]==lines[idx].split()[2]):\n",
    "            print(\"Zeroshot correct\")\n",
    "        if strategy==1:\n",
    "            correct_num+=1 if test_answer[idx]==lines_1[idx].split()[2] else 0\n",
    "        else:\n",
    "            correct_num+=1 if test_answer[idx]==lines[idx].split()[2] else 0\n",
    "    print(f\"Accuracy for {model}: \",float(correct_num*100/total_test),'%')"
   ]
  },
  {
   "cell_type": "markdown",
   "id": "b85478d7",
   "metadata": {
    "papermill": {
     "duration": null,
     "end_time": null,
     "exception": null,
     "start_time": null,
     "status": "pending"
    },
    "tags": []
   },
   "source": [
    "## 4. Construct dataset for finetuning"
   ]
  },
  {
   "cell_type": "code",
   "execution_count": null,
   "id": "f3c61b8d",
   "metadata": {
    "papermill": {
     "duration": null,
     "end_time": null,
     "exception": null,
     "start_time": null,
     "status": "pending"
    },
    "tags": []
   },
   "outputs": [],
   "source": [
    "import os\n",
    "os.mkdir(\"/kaggle/working/reasoning_dataset\")"
   ]
  },
  {
   "cell_type": "code",
   "execution_count": null,
   "id": "082f3331",
   "metadata": {
    "execution": {
     "iopub.execute_input": "2025-03-30T05:30:15.930235Z",
     "iopub.status.busy": "2025-03-30T05:30:15.929854Z",
     "iopub.status.idle": "2025-03-30T05:30:15.934486Z",
     "shell.execute_reply": "2025-03-30T05:30:15.933031Z",
     "shell.execute_reply.started": "2025-03-30T05:30:15.930207Z"
    },
    "papermill": {
     "duration": null,
     "end_time": null,
     "exception": null,
     "start_time": null,
     "status": "pending"
    },
    "tags": []
   },
   "outputs": [],
   "source": [
    "cot_prompt_with_answer = \"\"\"The following are multiple choice questions (with answers) about software devopment. There is always only one right answer among choices. Response the final answer with the form The answer is (final choice).\n",
    "You are already given the ground truth answer so try to make reasoning steps to reach that answer (don't mention the ground truth while reasoning).\n",
    "\n",
    "{question}\n",
    "{choices}\n",
    "\n",
    "Ground truth: ({answer})\n",
    "Answer: Let's think step by step. \"\"\""
   ]
  },
  {
   "cell_type": "code",
   "execution_count": null,
   "id": "ca91e004",
   "metadata": {
    "execution": {
     "iopub.execute_input": "2025-03-30T05:41:40.741941Z",
     "iopub.status.busy": "2025-03-30T05:41:40.741610Z",
     "iopub.status.idle": "2025-03-30T07:04:00.131859Z",
     "shell.execute_reply": "2025-03-30T07:04:00.130665Z",
     "shell.execute_reply.started": "2025-03-30T05:41:40.741912Z"
    },
    "papermill": {
     "duration": null,
     "end_time": null,
     "exception": null,
     "start_time": null,
     "status": "pending"
    },
    "tags": []
   },
   "outputs": [],
   "source": [
    "from openai import OpenAI\n",
    "import pickle\n",
    "import re\n",
    "import glob\n",
    "\n",
    "client = OpenAI()\n",
    "def parse_answer(example): #Refernce: https://github.com/FSoft-AI4Code/CodeMMLU/blob/main/src/codemmlu/task_utils.py\n",
    "        \"\"\"Answer extract function.\n",
    "        \n",
    "        Args:\n",
    "            example (str): The example to extract the answer from\n",
    "        Returns:\n",
    "            str: The extracted answer\n",
    "        \"\"\"\n",
    "        extract = re.search(r\"answer is (\\(*[A-E][\\).]*)\", example, flags=re.IGNORECASE)\n",
    "        if extract:\n",
    "            return extract.group(1).replace(\"(\", \"\").replace(\")\", \"\").replace(\".\", \"\").strip()\n",
    "        \n",
    "        \n",
    "        extract = re.search(r\"(\\(*[A-E][\\).]*) is correct\", example, flags=re.IGNORECASE)\n",
    "        if extract:\n",
    "            return extract.group(1).replace(\"(\", \"\").replace(\")\", \"\").replace(\".\", \"\").strip()\n",
    "        \n",
    "\n",
    "        match = re.findall(r\"(A|B|C|D|E)\", example)\n",
    "\n",
    "        if match:\n",
    "            # if len(match) > 1:\n",
    "            #     return None\n",
    "            return list(match)[0] # Take the first one\n",
    "        \n",
    "        return None\n",
    "new_dataset_taskid=[]\n",
    "new_dataset_questions=[]\n",
    "new_dataset_responses=[]\n",
    "full_dataset_taskid=train_df['task_id'].tolist()\n",
    "full_dataset_question=train_df['question'].tolist()\n",
    "full_dataset_choices=train_df['choices'].tolist()\n",
    "full_dataset_answer=train_df['answer'].tolist()\n",
    "max_finished_index=0\n",
    "finished_index=[]\n",
    "\n",
    "for file_path in glob.iglob(f'/kaggle/working/reasoning_dataset/*.pkl'): \n",
    "    file_name=os.path.basename(file_path)\n",
    "    index=int(file_name.split('_')[0])\n",
    "    finished_index.append(index)\n",
    "    max_finished_index=max(index,max_finished_index)    \n",
    "\n",
    "print(\"Finished index: \",max_finished_index)\n",
    "for idx in range(len(full_dataset_question)):\n",
    "    taskid=full_dataset_taskid[idx]\n",
    "    if idx in finished_index:\n",
    "        open_file = open(f\"/kaggle/working/reasoning_dataset/{idx}_{taskid}.pkl\", 'rb')\n",
    "        response_data=pickle.load(open_file)\n",
    "        new_dataset_taskid.append(taskid)\n",
    "        new_dataset_questions.append(response_data['question'])\n",
    "        new_dataset_responses.append(response_data['response'])\n",
    "        continue \n",
    "    question=cot_prompt.format(question=full_dataset_question[idx],choices=full_dataset_choices[idx])\n",
    "    completion_response=client.chat.completions.create(\n",
    "      model='gpt-4o',\n",
    "      temperature=0,\n",
    "      messages=[{\"role\": \"user\", \"content\": question}],\n",
    "    )\n",
    "    response=completion_response.choices[0].message.content    \n",
    "    answer=parse_answer(response)\n",
    "    if answer==full_dataset_answer[idx]:\n",
    "        dict_to_save={'question':question,'response':response}\n",
    "        save_file = open(f\"/kaggle/working/reasoning_dataset/{idx}_{taskid}.pkl\", 'wb')\n",
    "        pickle.dump(dict_to_save, save_file)                    \n",
    "        save_file.close()\n",
    "        new_dataset_taskid.append(taskid)\n",
    "        new_dataset_questions.append(question)\n",
    "        new_dataset_responses.append(response)\n",
    "    else:\n",
    "        question_with_answer=cot_prompt_with_answer.format(question=full_dataset_question[idx],choices=full_dataset_choices[idx],answer=full_dataset_answer[idx])\n",
    "        completion_response=client.chat.completions.create(\n",
    "          model='gpt-4o',\n",
    "          temperature=0,\n",
    "          messages=[{\"role\": \"user\", \"content\": question_with_answer}],\n",
    "        )\n",
    "        response=completion_response.choices[0].message.content    \n",
    "        answer_new=parse_answer(response)\n",
    "        if answer_new==full_dataset_answer[idx]:\n",
    "            dict_to_save={'question':question,'response':response}\n",
    "            save_file = open(f\"/kaggle/working/reasoning_dataset/{idx}_{taskid}.pkl\", 'wb')\n",
    "            pickle.dump(dict_to_save, save_file)                    \n",
    "            save_file.close()\n",
    "            new_dataset_taskid.append(taskid)\n",
    "            new_dataset_questions.append(question)\n",
    "            new_dataset_responses.append(response)           \n",
    "print(\"Finish construct new dataset\")"
   ]
  },
  {
   "cell_type": "code",
   "execution_count": null,
   "id": "edf9ea1a",
   "metadata": {
    "execution": {
     "iopub.execute_input": "2025-03-30T07:06:00.186602Z",
     "iopub.status.busy": "2025-03-30T07:06:00.186284Z",
     "iopub.status.idle": "2025-03-30T07:06:00.716573Z",
     "shell.execute_reply": "2025-03-30T07:06:00.715618Z",
     "shell.execute_reply.started": "2025-03-30T07:06:00.186578Z"
    },
    "papermill": {
     "duration": null,
     "end_time": null,
     "exception": null,
     "start_time": null,
     "status": "pending"
    },
    "tags": []
   },
   "outputs": [],
   "source": [
    "import shutil\n",
    "shutil.make_archive('/kaggle/working/reasoning_compressed', 'zip', '/kaggle/working/reasoning_dataset')"
   ]
  },
  {
   "cell_type": "code",
   "execution_count": null,
   "id": "289a4744",
   "metadata": {
    "execution": {
     "iopub.execute_input": "2025-03-30T09:39:42.071294Z",
     "iopub.status.busy": "2025-03-30T09:39:42.070879Z",
     "iopub.status.idle": "2025-03-30T09:39:42.703457Z",
     "shell.execute_reply": "2025-03-30T09:39:42.702483Z",
     "shell.execute_reply.started": "2025-03-30T09:39:42.071252Z"
    },
    "papermill": {
     "duration": null,
     "end_time": null,
     "exception": null,
     "start_time": null,
     "status": "pending"
    },
    "tags": []
   },
   "outputs": [],
   "source": [
    "import shutil\n",
    "shutil.make_archive('/kaggle/working/full_compressed', 'zip', '/kaggle/working')"
   ]
  },
  {
   "cell_type": "code",
   "execution_count": null,
   "id": "35b7da81",
   "metadata": {
    "execution": {
     "iopub.execute_input": "2025-03-30T11:53:58.677707Z",
     "iopub.status.busy": "2025-03-30T11:53:58.677315Z",
     "iopub.status.idle": "2025-03-30T11:53:58.937457Z",
     "shell.execute_reply": "2025-03-30T11:53:58.936179Z",
     "shell.execute_reply.started": "2025-03-30T11:53:58.677679Z"
    },
    "papermill": {
     "duration": null,
     "end_time": null,
     "exception": null,
     "start_time": null,
     "status": "pending"
    },
    "tags": []
   },
   "outputs": [],
   "source": [
    "import shutil\n",
    "shutil.make_archive('/kaggle/working/responsesubmission', 'zip', '/kaggle/working/response_submission')"
   ]
  },
  {
   "cell_type": "code",
   "execution_count": null,
   "id": "142a9bb2",
   "metadata": {
    "execution": {
     "iopub.execute_input": "2025-03-30T07:06:53.586029Z",
     "iopub.status.busy": "2025-03-30T07:06:53.585706Z",
     "iopub.status.idle": "2025-03-30T07:06:53.713737Z",
     "shell.execute_reply": "2025-03-30T07:06:53.712818Z",
     "shell.execute_reply.started": "2025-03-30T07:06:53.585970Z"
    },
    "papermill": {
     "duration": null,
     "end_time": null,
     "exception": null,
     "start_time": null,
     "status": "pending"
    },
    "tags": []
   },
   "outputs": [],
   "source": [
    "new_data = {'task_id': new_dataset_taskid,\n",
    "        'question': new_dataset_questions,\n",
    "           'response':new_dataset_responses}\n",
    "new_data_df = pd.DataFrame(new_data)\n",
    "new_data_df.to_csv('/kaggle/working/new_dataset.csv', index=False)"
   ]
  },
  {
   "cell_type": "markdown",
   "id": "d7cb1988",
   "metadata": {
    "papermill": {
     "duration": null,
     "end_time": null,
     "exception": null,
     "start_time": null,
     "status": "pending"
    },
    "tags": []
   },
   "source": [
    "## 5. Fine-tuning model"
   ]
  },
  {
   "cell_type": "code",
   "execution_count": null,
   "id": "9e300fbd",
   "metadata": {
    "execution": {
     "iopub.execute_input": "2025-03-30T07:08:11.481304Z",
     "iopub.status.busy": "2025-03-30T07:08:11.480923Z",
     "iopub.status.idle": "2025-03-30T07:08:16.675423Z",
     "shell.execute_reply": "2025-03-30T07:08:16.674173Z",
     "shell.execute_reply.started": "2025-03-30T07:08:11.481278Z"
    },
    "papermill": {
     "duration": null,
     "end_time": null,
     "exception": null,
     "start_time": null,
     "status": "pending"
    },
    "tags": []
   },
   "outputs": [],
   "source": [
    "pip install jsonlines"
   ]
  },
  {
   "cell_type": "code",
   "execution_count": null,
   "id": "6c8795f1",
   "metadata": {
    "execution": {
     "iopub.execute_input": "2025-03-30T07:09:50.290097Z",
     "iopub.status.busy": "2025-03-30T07:09:50.289759Z",
     "iopub.status.idle": "2025-03-30T07:09:50.466320Z",
     "shell.execute_reply": "2025-03-30T07:09:50.464789Z",
     "shell.execute_reply.started": "2025-03-30T07:09:50.290069Z"
    },
    "papermill": {
     "duration": null,
     "end_time": null,
     "exception": null,
     "start_time": null,
     "status": "pending"
    },
    "tags": []
   },
   "outputs": [],
   "source": [
    "import jsonlines\n",
    "\n",
    "finetune_df=pd.read_csv('/kaggle/working/new_dataset.csv')\n",
    "finetune_df_train=train.merge(finetune_df, on='task_id')\n",
    "finetune_df_validate=validation.merge(finetune_df,on='task_id')\n",
    "with jsonlines.open('/kaggle/working/finetune_training.jsonl', mode='w') as writer:\n",
    "    finetune_question=finetune_df_train['question_y'].tolist()\n",
    "    finetune_response=finetune_df_train['response'].tolist()\n",
    "    finetune_data=[]\n",
    "    for idx in range(len(finetune_question)):\n",
    "        res_dict={'prompt':finetune_question[idx],'completion':finetune_response[idx]}\n",
    "        finetune_data.append(res_dict)\n",
    "    writer.write_all(finetune_data)\n",
    "with jsonlines.open('/kaggle/working/finetune_validation.jsonl', mode='w') as writer:\n",
    "    finetune_question=finetune_df_validate['question_y'].tolist()\n",
    "    finetune_response=finetune_df_validate['response'].tolist()\n",
    "    finetune_data=[]\n",
    "    for idx in range(len(finetune_question)):\n",
    "        res_dict={'prompt':finetune_question[idx],'completion':finetune_response[idx]}\n",
    "        finetune_data.append(res_dict)\n",
    "    writer.write_all(finetune_data)"
   ]
  },
  {
   "cell_type": "code",
   "execution_count": null,
   "id": "e384838f",
   "metadata": {
    "execution": {
     "iopub.execute_input": "2025-03-30T07:12:55.524948Z",
     "iopub.status.busy": "2025-03-30T07:12:55.524658Z",
     "iopub.status.idle": "2025-03-30T07:12:59.682558Z",
     "shell.execute_reply": "2025-03-30T07:12:59.681477Z",
     "shell.execute_reply.started": "2025-03-30T07:12:55.524925Z"
    },
    "papermill": {
     "duration": null,
     "end_time": null,
     "exception": null,
     "start_time": null,
     "status": "pending"
    },
    "tags": []
   },
   "outputs": [],
   "source": [
    "import os\n",
    "from together import Together\n",
    "\n",
    "client = Together(api_key=os.environ.get(\"TOGETHER_API_KEY\"))\n",
    "\n",
    "file_resp = client.files.upload(file=\"/kaggle/working/finetune_training.jsonl\", check=True)\n",
    "\n",
    "print(file_resp.model_dump())\n",
    "\n",
    "file_resp = client.files.upload(file=\"/kaggle/working/finetune_validation.jsonl\", check=True)\n",
    "\n",
    "print(file_resp.model_dump())"
   ]
  },
  {
   "cell_type": "code",
   "execution_count": null,
   "id": "408edab0",
   "metadata": {
    "execution": {
     "iopub.execute_input": "2025-03-30T07:24:39.419796Z",
     "iopub.status.busy": "2025-03-30T07:24:39.419233Z",
     "iopub.status.idle": "2025-03-30T07:24:40.359185Z",
     "shell.execute_reply": "2025-03-30T07:24:40.358038Z",
     "shell.execute_reply.started": "2025-03-30T07:24:39.419767Z"
    },
    "papermill": {
     "duration": null,
     "end_time": null,
     "exception": null,
     "start_time": null,
     "status": "pending"
    },
    "tags": []
   },
   "outputs": [],
   "source": [
    "import os\n",
    "from together import Together\n",
    "\n",
    "client = Together(api_key=os.environ.get(\"TOGETHER_API_KEY\"))\n",
    "\n",
    "response = client.fine_tuning.create(\n",
    "    training_file = 'file-660de773-4dea-4d58-b6f3-b1b1772e1c53',\n",
    "    validation_file='file-3383d5ce-e0d4-400a-b970-306e119dcc2e',\n",
    "    model = 'meta-llama/Llama-3.3-70B-Instruct-Reference',\n",
    "    lora = True,\n",
    "    n_epochs = 3,\n",
    "    n_evals = 1,\n",
    "    n_checkpoints = 1,\n",
    "    batch_size = \"max\",\n",
    "    suffix = 'codemmlu-finetune-llama-3.3',\n",
    ")\n",
    "\n",
    "print(response)"
   ]
  },
  {
   "cell_type": "markdown",
   "id": "5cd1012f",
   "metadata": {
    "papermill": {
     "duration": null,
     "end_time": null,
     "exception": null,
     "start_time": null,
     "status": "pending"
    },
    "tags": []
   },
   "source": [
    "## 6. Make submission"
   ]
  },
  {
   "cell_type": "code",
   "execution_count": null,
   "id": "1100e9f8",
   "metadata": {
    "execution": {
     "iopub.execute_input": "2025-03-30T08:35:23.576573Z",
     "iopub.status.busy": "2025-03-30T08:35:23.576057Z",
     "iopub.status.idle": "2025-03-30T08:35:23.645064Z",
     "shell.execute_reply": "2025-03-30T08:35:23.643850Z",
     "shell.execute_reply.started": "2025-03-30T08:35:23.576539Z"
    },
    "papermill": {
     "duration": null,
     "end_time": null,
     "exception": null,
     "start_time": null,
     "status": "pending"
    },
    "tags": []
   },
   "outputs": [],
   "source": [
    "import ast\n",
    "from string import ascii_uppercase\n",
    "\n",
    "test_df=pd.read_csv('/kaggle/input/fpt-ai-residency-batch-6-entry-test/b6_test_data.csv')\n",
    "test_df['choices'] = test_df['choices'].apply(lambda x:\"\\n\".join([f\"({ascii_uppercase[idx]}) {choice}\" for idx, choice in enumerate(ast.literal_eval(x))]))\n",
    "test_df_questions=test_df['question'].tolist()\n",
    "test_df_choices=test_df['choices'].tolist()\n",
    "test_df_taskid=test_df['task_id'].tolist()"
   ]
  },
  {
   "cell_type": "code",
   "execution_count": null,
   "id": "5026d69c",
   "metadata": {
    "execution": {
     "iopub.execute_input": "2025-03-30T08:35:26.636787Z",
     "iopub.status.busy": "2025-03-30T08:35:26.636454Z",
     "iopub.status.idle": "2025-03-30T08:35:26.669770Z",
     "shell.execute_reply": "2025-03-30T08:35:26.668786Z",
     "shell.execute_reply.started": "2025-03-30T08:35:26.636761Z"
    },
    "papermill": {
     "duration": null,
     "end_time": null,
     "exception": null,
     "start_time": null,
     "status": "pending"
    },
    "tags": []
   },
   "outputs": [],
   "source": [
    "test_df"
   ]
  },
  {
   "cell_type": "code",
   "execution_count": null,
   "id": "0cac8bec",
   "metadata": {
    "execution": {
     "iopub.execute_input": "2025-03-30T08:54:37.340919Z",
     "iopub.status.busy": "2025-03-30T08:54:37.340545Z",
     "iopub.status.idle": "2025-03-30T08:54:37.346426Z",
     "shell.execute_reply": "2025-03-30T08:54:37.345130Z",
     "shell.execute_reply.started": "2025-03-30T08:54:37.340893Z"
    },
    "papermill": {
     "duration": null,
     "end_time": null,
     "exception": null,
     "start_time": null,
     "status": "pending"
    },
    "tags": []
   },
   "outputs": [],
   "source": [
    "import os\n",
    "os.mkdir(\"/kaggle/working/response_submission\")"
   ]
  },
  {
   "cell_type": "code",
   "execution_count": null,
   "id": "a4bc9840",
   "metadata": {
    "execution": {
     "iopub.execute_input": "2025-03-30T09:56:29.506638Z",
     "iopub.status.busy": "2025-03-30T09:56:29.506180Z",
     "iopub.status.idle": "2025-03-30T11:48:46.157864Z",
     "shell.execute_reply": "2025-03-30T11:48:46.156913Z",
     "shell.execute_reply.started": "2025-03-30T09:56:29.506595Z"
    },
    "papermill": {
     "duration": null,
     "end_time": null,
     "exception": null,
     "start_time": null,
     "status": "pending"
    },
    "tags": []
   },
   "outputs": [],
   "source": [
    "from together import Together\n",
    "import re\n",
    "import pickle\n",
    "import re\n",
    "import glob\n",
    "\n",
    "client = Together()\n",
    "\n",
    "\n",
    "def parse_answer(example): #Refernce: https://github.com/FSoft-AI4Code/CodeMMLU/blob/main/src/codemmlu/task_utils.py\n",
    "        \"\"\"Answer extract function.\n",
    "        \n",
    "        Args:\n",
    "            example (str): The example to extract the answer from\n",
    "        Returns:\n",
    "            str: The extracted answer\n",
    "        \"\"\"\n",
    "        extract = re.search(r\"answer is (\\(*[A-E][\\).]*)\", example, flags=re.IGNORECASE)\n",
    "        if extract:\n",
    "            return extract.group(1).replace(\"(\", \"\").replace(\")\", \"\").replace(\".\", \"\").strip()\n",
    "        \n",
    "        \n",
    "        extract = re.search(r\"(\\(*[A-E][\\).]*) is correct\", example, flags=re.IGNORECASE)\n",
    "        if extract:\n",
    "            return extract.group(1).replace(\"(\", \"\").replace(\")\", \"\").replace(\".\", \"\").strip()\n",
    "        extract = re.search(r\"the correct answer (\\(*[A-E][\\).]*)\", example, flags=re.IGNORECASE)\n",
    "        if extract:\n",
    "            return extract.group(1).replace(\"(\", \"\").replace(\")\", \"\").replace(\".\", \"\").strip()            \n",
    "\n",
    "        match = re.findall(r\"(A|B|C|D|E)\", example)\n",
    "\n",
    "        if match:\n",
    "            # if len(match) > 1:\n",
    "            #     return None\n",
    "            return list(match)[0] # Take the first one\n",
    "        return None\n",
    "\n",
    "def get_response(model,question,choices,prompt):\n",
    "    completion = client.chat.completions.create(\n",
    "      model=model,\n",
    "      temperature=0,\n",
    "      messages=[{\"role\": \"user\", \"content\": prompt.format(question=question,choices=choices)}],\n",
    "    )\n",
    "    answer=parse_answer(completion.choices[0].message.content)\n",
    "    assert answer!=None,completion.choices[0].message.content\n",
    "    return answer,completion.choices[0].message.content\n",
    "    \n",
    "models=['vipboy0402hcm/Llama-3.3-70B-Instruct-Reference-codemmlu-finetune-llama-3.3-d18143eb-5e2cadba']\n",
    "\n",
    "result_taskid=[]\n",
    "result_answer=[]\n",
    "finished_index=[]\n",
    "\n",
    "for file_path in glob.iglob(f'/kaggle/working/response_submission/*.pkl'): \n",
    "    file_name=os.path.basename(file_path)\n",
    "    index=file_name.split('.')[0]\n",
    "    finished_index.append(index)\n",
    "    \n",
    "for model in models:\n",
    "    for idx in range(len(test_df_questions)):\n",
    "        if test_df_taskid[idx] in finished_index:\n",
    "            open_file = open(f\"/kaggle/working/response_submission/{test_df_taskid[idx]}.pkl\", 'rb')\n",
    "            response_data=pickle.load(open_file)\n",
    "            result_taskid.append(test_df_taskid[idx])\n",
    "            result_answer.append(response_data['answer'])\n",
    "            continue  \n",
    "        result_taskid.append(test_df_taskid[idx])\n",
    "        if idx%50==0:\n",
    "            print(\"Processing \",idx)\n",
    "        answer,response=get_response(model,test_df_questions[idx],test_df_choices[idx],cot_prompt)\n",
    "        result_answer.append(answer.strip())\n",
    "        dict_to_save={'answer':answer.strip(),'response':response}\n",
    "        save_file = open(f\"/kaggle/working/response_submission/{test_df_taskid[idx]}.pkl\", 'wb')\n",
    "        pickle.dump(dict_to_save, save_file)                    \n",
    "        save_file.close()\n",
    "    \n",
    "    print(f\"Finish {model} \")\n",
    "dict_for_submission={'task_id':result_taskid,'answer':result_answer}\n",
    "submission_df=pd.DataFrame(dict_for_submission)\n",
    "submission_df.to_csv('/kaggle/working/submission.csv', index=False)"
   ]
  }
 ],
 "metadata": {
  "kaggle": {
   "accelerator": "none",
   "dataSources": [
    {
     "databundleVersionId": 11597044,
     "sourceId": 97436,
     "sourceType": "competition"
    }
   ],
   "dockerImageVersionId": 30918,
   "isGpuEnabled": false,
   "isInternetEnabled": true,
   "language": "python",
   "sourceType": "notebook"
  },
  "kernelspec": {
   "display_name": "Python 3",
   "language": "python",
   "name": "python3"
  },
  "language_info": {
   "codemirror_mode": {
    "name": "ipython",
    "version": 3
   },
   "file_extension": ".py",
   "mimetype": "text/x-python",
   "name": "python",
   "nbconvert_exporter": "python",
   "pygments_lexer": "ipython3",
   "version": "3.10.12"
  },
  "papermill": {
   "default_parameters": {},
   "duration": 16.761997,
   "end_time": "2025-03-30T11:57:58.987934",
   "environment_variables": {},
   "exception": true,
   "input_path": "__notebook__.ipynb",
   "output_path": "__notebook__.ipynb",
   "parameters": {},
   "start_time": "2025-03-30T11:57:42.225937",
   "version": "2.6.0"
  }
 },
 "nbformat": 4,
 "nbformat_minor": 5
}
